{
 "cells": [
  {
   "cell_type": "markdown",
   "id": "3ca1113b-5631-4d23-b803-e585dbdedcbe",
   "metadata": {},
   "source": [
    "# <font color = #EE4000> G2M Insight For Cab Investment Firm"
   ]
  },
  {
   "cell_type": "markdown",
   "id": "1ec6752a-0b35-4dee-ba7d-e9ee5076b505",
   "metadata": {},
   "source": [
    "## <font color = \t\t#03A89E\t> Part 1: </font> <font color = \t#7B68EE\t> Import Libraries and settings </font>"
   ]
  },
  {
   "cell_type": "code",
   "execution_count": 1,
   "id": "3c95f536-2879-4b14-a05a-b7bd7f5ec30e",
   "metadata": {},
   "outputs": [],
   "source": [
    "import numpy as np\n",
    "import pandas as pd\n",
    "import matplotlib.pyplot as plt\n",
    "import seaborn as sns\n",
    "from datetime import datetime\n",
    "from datetime import date\n",
    "import string\n",
    "from scipy import stats \n",
    "import scipy.stats as stat\n",
    "from scipy.stats import ttest_1samp\n",
    "from scipy.stats import ttest_ind\n",
    "import warnings\n",
    "\n",
    "warnings.filterwarnings(\"ignore\")\n",
    "pd.set_option('display.max_columns', None)\n"
   ]
  },
  {
   "cell_type": "markdown",
   "id": "49204b8b-d94e-45a5-b2d7-3d0642f4bc5f",
   "metadata": {},
   "source": [
    "## <font color =        #03A89E > Part 2: </font> <font color =     #7B68EE > Import Datasets</font>\n"
   ]
  },
  {
   "cell_type": "code",
   "execution_count": 2,
   "id": "ade68765-4981-4886-b191-fcb7ce833bcb",
   "metadata": {},
   "outputs": [],
   "source": [
    "df_cab=pd.read_csv(\"Cab_Data.csv\")\n",
    "df_customer_id=pd.read_csv(\"Customer_ID.csv\")\n",
    "df_transaction_id=pd.read_csv(\"Transaction_ID.csv\")\n",
    "df_city=pd.read_csv(\"City.csv\")"
   ]
  },
  {
   "cell_type": "code",
   "execution_count": 3,
   "id": "161885fd-89b0-4abd-81d3-6c7369a5feaf",
   "metadata": {},
   "outputs": [],
   "source": [
    "data_sets=[df_cab,df_customer_id,df_transaction_id,df_city]\n",
    "data_set_name=[\"df_Cab\",\"df_Custome_ID\",\"df_Transaction_ID\",\"df_City\"]"
   ]
  },
  {
   "cell_type": "markdown",
   "id": "8497ebba-c381-4fd1-888d-cf144934c508",
   "metadata": {
    "tags": []
   },
   "source": [
    "## <font color =        #03A89E > Part 3: </font> <font color =     #7B68EE > First contact with data</font>\n",
    "### <font color = #7B68EE> Columns Name Operations"
   ]
  },
  {
   "cell_type": "code",
   "execution_count": 4,
   "id": "52b33aa6-41c2-4f5a-8c03-a8b765b6c360",
   "metadata": {},
   "outputs": [],
   "source": [
    "for data in data_sets:\n",
    "    data.columns=data.columns.str.replace(\" \",\"_\")\n",
    "    data.columns=data.columns.str.lower()"
   ]
  },
  {
   "cell_type": "markdown",
   "id": "288bc357-9c0f-4fbc-bb06-0b5d87528d85",
   "metadata": {},
   "source": [
    "### <font color = #7B68EE> Duplicated and Missing Values Check"
   ]
  },
  {
   "cell_type": "code",
   "execution_count": 5,
   "id": "3bfda184-24e4-414f-b23b-d253fc87c71f",
   "metadata": {},
   "outputs": [],
   "source": [
    "for data in data_sets:\n",
    "    data=data.drop_duplicates(keep=\"first\")"
   ]
  },
  {
   "cell_type": "code",
   "execution_count": 6,
   "id": "621d90f5-dd2f-420d-b68f-bf9988ab1653",
   "metadata": {},
   "outputs": [
    {
     "name": "stdout",
     "output_type": "stream",
     "text": [
      "******************************\n",
      "transaction_id    0\n",
      "date_of_travel    0\n",
      "company           0\n",
      "city              0\n",
      "km_travelled      0\n",
      "price_charged     0\n",
      "cost_of_trip      0\n",
      "dtype: int64\n",
      "******************************\n",
      "******************************\n",
      "customer_id           0\n",
      "gender                0\n",
      "age                   0\n",
      "income_(usd/month)    0\n",
      "dtype: int64\n",
      "******************************\n",
      "******************************\n",
      "transaction_id    0\n",
      "customer_id       0\n",
      "payment_mode      0\n",
      "dtype: int64\n",
      "******************************\n",
      "******************************\n",
      "city          0\n",
      "population    0\n",
      "users         0\n",
      "dtype: int64\n",
      "******************************\n"
     ]
    }
   ],
   "source": [
    "for data in data_sets:\n",
    "    a=data.isnull().sum()\n",
    "    print(\"*\"*30)\n",
    "    print(a)\n",
    "    print(\"*\"*30)"
   ]
  },
  {
   "cell_type": "markdown",
   "id": "8bdcfa54-5f55-43f9-89ed-8f1d582b2cf3",
   "metadata": {},
   "source": [
    "### <font color = #7B68EE> Dtypes Selection"
   ]
  },
  {
   "cell_type": "code",
   "execution_count": 7,
   "id": "8596b4ae-26c5-4619-b5f0-dd4ae3aa8b8a",
   "metadata": {},
   "outputs": [],
   "source": [
    "for data in data_sets:\n",
    "    objects=data.select_dtypes([\"object\"]).columns                                      \n",
    "    for column in objects:\n",
    "        calculation=(len(data[column])-data[column].nunique())/len(data[column])*100   #If the difference of uniq values from the data set is greater than 90 percent, we should qualify it as Categorical.\n",
    "        if calculation>90 :\n",
    "             data[column]=data[column].astype(\"category\")"
   ]
  },
  {
   "cell_type": "markdown",
   "id": "0cb1deda-da4b-44cb-a775-9596b11a539d",
   "metadata": {},
   "source": [
    "### <font color = #7B68EE>  First information about datasets"
   ]
  },
  {
   "cell_type": "code",
   "execution_count": 8,
   "id": "6aa216f6-3338-4f14-bf31-1239744c083d",
   "metadata": {},
   "outputs": [
    {
     "name": "stdout",
     "output_type": "stream",
     "text": [
      "<class 'pandas.core.frame.DataFrame'>\n",
      "RangeIndex: 359392 entries, 0 to 359391\n",
      "Data columns (total 7 columns):\n",
      " #   Column          Non-Null Count   Dtype   \n",
      "---  ------          --------------   -----   \n",
      " 0   transaction_id  359392 non-null  int64   \n",
      " 1   date_of_travel  359392 non-null  int64   \n",
      " 2   company         359392 non-null  category\n",
      " 3   city            359392 non-null  category\n",
      " 4   km_travelled    359392 non-null  float64 \n",
      " 5   price_charged   359392 non-null  float64 \n",
      " 6   cost_of_trip    359392 non-null  float64 \n",
      "dtypes: category(2), float64(3), int64(2)\n",
      "memory usage: 14.4 MB\n",
      "<class 'pandas.core.frame.DataFrame'>\n",
      "RangeIndex: 49171 entries, 0 to 49170\n",
      "Data columns (total 4 columns):\n",
      " #   Column              Non-Null Count  Dtype   \n",
      "---  ------              --------------  -----   \n",
      " 0   customer_id         49171 non-null  int64   \n",
      " 1   gender              49171 non-null  category\n",
      " 2   age                 49171 non-null  int64   \n",
      " 3   income_(usd/month)  49171 non-null  int64   \n",
      "dtypes: category(1), int64(3)\n",
      "memory usage: 1.2 MB\n",
      "<class 'pandas.core.frame.DataFrame'>\n",
      "RangeIndex: 440098 entries, 0 to 440097\n",
      "Data columns (total 3 columns):\n",
      " #   Column          Non-Null Count   Dtype   \n",
      "---  ------          --------------   -----   \n",
      " 0   transaction_id  440098 non-null  int64   \n",
      " 1   customer_id     440098 non-null  int64   \n",
      " 2   payment_mode    440098 non-null  category\n",
      "dtypes: category(1), int64(2)\n",
      "memory usage: 7.1 MB\n",
      "<class 'pandas.core.frame.DataFrame'>\n",
      "RangeIndex: 20 entries, 0 to 19\n",
      "Data columns (total 3 columns):\n",
      " #   Column      Non-Null Count  Dtype \n",
      "---  ------      --------------  ----- \n",
      " 0   city        20 non-null     object\n",
      " 1   population  20 non-null     object\n",
      " 2   users       20 non-null     object\n",
      "dtypes: object(3)\n",
      "memory usage: 608.0+ bytes\n"
     ]
    }
   ],
   "source": [
    "for data in data_sets:\n",
    "    data.info()"
   ]
  },
  {
   "cell_type": "markdown",
   "id": "89f09626-1a5d-493e-a963-915361f30d92",
   "metadata": {},
   "source": [
    "### <font color = #7B68EE>  Cab Dataset operations"
   ]
  },
  {
   "cell_type": "code",
   "execution_count": 9,
   "id": "49fcd516-d807-46d4-8086-b04ec2464907",
   "metadata": {},
   "outputs": [
    {
     "data": {
      "text/html": [
       "<div>\n",
       "<style scoped>\n",
       "    .dataframe tbody tr th:only-of-type {\n",
       "        vertical-align: middle;\n",
       "    }\n",
       "\n",
       "    .dataframe tbody tr th {\n",
       "        vertical-align: top;\n",
       "    }\n",
       "\n",
       "    .dataframe thead th {\n",
       "        text-align: right;\n",
       "    }\n",
       "</style>\n",
       "<table border=\"1\" class=\"dataframe\">\n",
       "  <thead>\n",
       "    <tr style=\"text-align: right;\">\n",
       "      <th></th>\n",
       "      <th>transaction_id</th>\n",
       "      <th>date_of_travel</th>\n",
       "      <th>company</th>\n",
       "      <th>city</th>\n",
       "      <th>km_travelled</th>\n",
       "      <th>price_charged</th>\n",
       "      <th>cost_of_trip</th>\n",
       "    </tr>\n",
       "  </thead>\n",
       "  <tbody>\n",
       "    <tr>\n",
       "      <th>0</th>\n",
       "      <td>10000011</td>\n",
       "      <td>42377</td>\n",
       "      <td>Pink Cab</td>\n",
       "      <td>ATLANTA GA</td>\n",
       "      <td>30.45</td>\n",
       "      <td>370.95</td>\n",
       "      <td>313.635</td>\n",
       "    </tr>\n",
       "    <tr>\n",
       "      <th>1</th>\n",
       "      <td>10000012</td>\n",
       "      <td>42375</td>\n",
       "      <td>Pink Cab</td>\n",
       "      <td>ATLANTA GA</td>\n",
       "      <td>28.62</td>\n",
       "      <td>358.52</td>\n",
       "      <td>334.854</td>\n",
       "    </tr>\n",
       "    <tr>\n",
       "      <th>2</th>\n",
       "      <td>10000013</td>\n",
       "      <td>42371</td>\n",
       "      <td>Pink Cab</td>\n",
       "      <td>ATLANTA GA</td>\n",
       "      <td>9.04</td>\n",
       "      <td>125.20</td>\n",
       "      <td>97.632</td>\n",
       "    </tr>\n",
       "    <tr>\n",
       "      <th>3</th>\n",
       "      <td>10000014</td>\n",
       "      <td>42376</td>\n",
       "      <td>Pink Cab</td>\n",
       "      <td>ATLANTA GA</td>\n",
       "      <td>33.17</td>\n",
       "      <td>377.40</td>\n",
       "      <td>351.602</td>\n",
       "    </tr>\n",
       "    <tr>\n",
       "      <th>4</th>\n",
       "      <td>10000015</td>\n",
       "      <td>42372</td>\n",
       "      <td>Pink Cab</td>\n",
       "      <td>ATLANTA GA</td>\n",
       "      <td>8.73</td>\n",
       "      <td>114.62</td>\n",
       "      <td>97.776</td>\n",
       "    </tr>\n",
       "    <tr>\n",
       "      <th>5</th>\n",
       "      <td>10000016</td>\n",
       "      <td>42376</td>\n",
       "      <td>Pink Cab</td>\n",
       "      <td>ATLANTA GA</td>\n",
       "      <td>6.06</td>\n",
       "      <td>72.43</td>\n",
       "      <td>63.024</td>\n",
       "    </tr>\n",
       "    <tr>\n",
       "      <th>6</th>\n",
       "      <td>10000017</td>\n",
       "      <td>42372</td>\n",
       "      <td>Pink Cab</td>\n",
       "      <td>AUSTIN TX</td>\n",
       "      <td>44.00</td>\n",
       "      <td>576.15</td>\n",
       "      <td>475.200</td>\n",
       "    </tr>\n",
       "    <tr>\n",
       "      <th>7</th>\n",
       "      <td>10000018</td>\n",
       "      <td>42376</td>\n",
       "      <td>Pink Cab</td>\n",
       "      <td>AUSTIN TX</td>\n",
       "      <td>35.65</td>\n",
       "      <td>466.10</td>\n",
       "      <td>377.890</td>\n",
       "    </tr>\n",
       "    <tr>\n",
       "      <th>8</th>\n",
       "      <td>10000019</td>\n",
       "      <td>42381</td>\n",
       "      <td>Pink Cab</td>\n",
       "      <td>BOSTON MA</td>\n",
       "      <td>14.40</td>\n",
       "      <td>191.61</td>\n",
       "      <td>146.880</td>\n",
       "    </tr>\n",
       "  </tbody>\n",
       "</table>\n",
       "</div>"
      ],
      "text/plain": [
       "   transaction_id  date_of_travel   company        city  km_travelled  \\\n",
       "0        10000011           42377  Pink Cab  ATLANTA GA         30.45   \n",
       "1        10000012           42375  Pink Cab  ATLANTA GA         28.62   \n",
       "2        10000013           42371  Pink Cab  ATLANTA GA          9.04   \n",
       "3        10000014           42376  Pink Cab  ATLANTA GA         33.17   \n",
       "4        10000015           42372  Pink Cab  ATLANTA GA          8.73   \n",
       "5        10000016           42376  Pink Cab  ATLANTA GA          6.06   \n",
       "6        10000017           42372  Pink Cab   AUSTIN TX         44.00   \n",
       "7        10000018           42376  Pink Cab   AUSTIN TX         35.65   \n",
       "8        10000019           42381  Pink Cab   BOSTON MA         14.40   \n",
       "\n",
       "   price_charged  cost_of_trip  \n",
       "0         370.95       313.635  \n",
       "1         358.52       334.854  \n",
       "2         125.20        97.632  \n",
       "3         377.40       351.602  \n",
       "4         114.62        97.776  \n",
       "5          72.43        63.024  \n",
       "6         576.15       475.200  \n",
       "7         466.10       377.890  \n",
       "8         191.61       146.880  "
      ]
     },
     "execution_count": 9,
     "metadata": {},
     "output_type": "execute_result"
    }
   ],
   "source": [
    "df_cab.head(9)"
   ]
  },
  {
   "cell_type": "markdown",
   "id": "08889c7d-60e9-47ba-a581-bb39616d69e3",
   "metadata": {},
   "source": [
    "### <font color = #7B68EE> Converting date column to date format"
   ]
  },
  {
   "cell_type": "code",
   "execution_count": 10,
   "id": "ae1d6725-6afe-436d-85b8-5350d7752a42",
   "metadata": {},
   "outputs": [
    {
     "name": "stdout",
     "output_type": "stream",
     "text": [
      "Minimum date of data:  42371\n",
      "The base of the date : 1900-01-28\n"
     ]
    }
   ],
   "source": [
    "min_date=df_cab[\"date_of_travel\"].min()            #it has to represent  31/01/2016\n",
    "\n",
    "base_date=date.fromordinal(datetime(2016,1,31).toordinal()-min_date)\n",
    "print(\"Minimum date of data: \",min_date)\n",
    "print(\"The base of the date :\",base_date)"
   ]
  },
  {
   "cell_type": "code",
   "execution_count": 11,
   "id": "d95ebdd2-b127-45f4-995e-27bdb756963f",
   "metadata": {},
   "outputs": [],
   "source": [
    "def convert_date(X):\n",
    "    to_strp=date.fromordinal(base_date.toordinal()+X).strftime(\"%d-%m-%Y\")\n",
    "    return datetime.strptime(to_strp,\"%d-%m-%Y\")"
   ]
  },
  {
   "cell_type": "code",
   "execution_count": 12,
   "id": "58241851-7052-4529-826f-b7a0d7043bd8",
   "metadata": {},
   "outputs": [
    {
     "data": {
      "text/plain": [
       "0   2016-02-06\n",
       "1   2016-02-04\n",
       "2   2016-01-31\n",
       "3   2016-02-05\n",
       "4   2016-02-01\n",
       "Name: date_of_travel, dtype: datetime64[ns]"
      ]
     },
     "execution_count": 12,
     "metadata": {},
     "output_type": "execute_result"
    }
   ],
   "source": [
    "df_cab[\"date_of_travel\"]=df_cab[\"date_of_travel\"].apply(convert_date)\n",
    "df_cab.date_of_travel.head()"
   ]
  },
  {
   "cell_type": "code",
   "execution_count": 13,
   "id": "9653357c-6c4a-4bd0-9c50-8c76f6c80c7e",
   "metadata": {},
   "outputs": [
    {
     "name": "stdout",
     "output_type": "stream",
     "text": [
      "Rows:  359392\n",
      "Columns:  7\n"
     ]
    }
   ],
   "source": [
    "print(\"Rows: \",df_cab.shape[0])\n",
    "print(\"Columns: \",df_cab.shape[1])"
   ]
  },
  {
   "cell_type": "code",
   "execution_count": 14,
   "id": "92f03db9-ef02-4ea9-8210-128d9c911323",
   "metadata": {},
   "outputs": [
    {
     "data": {
      "text/html": [
       "<div>\n",
       "<style scoped>\n",
       "    .dataframe tbody tr th:only-of-type {\n",
       "        vertical-align: middle;\n",
       "    }\n",
       "\n",
       "    .dataframe tbody tr th {\n",
       "        vertical-align: top;\n",
       "    }\n",
       "\n",
       "    .dataframe thead th {\n",
       "        text-align: right;\n",
       "    }\n",
       "</style>\n",
       "<table border=\"1\" class=\"dataframe\">\n",
       "  <thead>\n",
       "    <tr style=\"text-align: right;\">\n",
       "      <th></th>\n",
       "      <th>count</th>\n",
       "      <th>mean</th>\n",
       "      <th>std</th>\n",
       "      <th>min</th>\n",
       "      <th>25%</th>\n",
       "      <th>50%</th>\n",
       "      <th>75%</th>\n",
       "      <th>max</th>\n",
       "    </tr>\n",
       "  </thead>\n",
       "  <tbody>\n",
       "    <tr>\n",
       "      <th>transaction_id</th>\n",
       "      <td>359392.0</td>\n",
       "      <td>1.022076e+07</td>\n",
       "      <td>126805.803715</td>\n",
       "      <td>10000011.0</td>\n",
       "      <td>1.011081e+07</td>\n",
       "      <td>10221035.50</td>\n",
       "      <td>1.033094e+07</td>\n",
       "      <td>10440107.00</td>\n",
       "    </tr>\n",
       "    <tr>\n",
       "      <th>km_travelled</th>\n",
       "      <td>359392.0</td>\n",
       "      <td>2.256725e+01</td>\n",
       "      <td>12.233526</td>\n",
       "      <td>1.9</td>\n",
       "      <td>1.200000e+01</td>\n",
       "      <td>22.44</td>\n",
       "      <td>3.296000e+01</td>\n",
       "      <td>48.00</td>\n",
       "    </tr>\n",
       "    <tr>\n",
       "      <th>price_charged</th>\n",
       "      <td>359392.0</td>\n",
       "      <td>4.234433e+02</td>\n",
       "      <td>274.378911</td>\n",
       "      <td>15.6</td>\n",
       "      <td>2.064375e+02</td>\n",
       "      <td>386.36</td>\n",
       "      <td>5.836600e+02</td>\n",
       "      <td>2048.03</td>\n",
       "    </tr>\n",
       "    <tr>\n",
       "      <th>cost_of_trip</th>\n",
       "      <td>359392.0</td>\n",
       "      <td>2.861901e+02</td>\n",
       "      <td>157.993661</td>\n",
       "      <td>19.0</td>\n",
       "      <td>1.512000e+02</td>\n",
       "      <td>282.48</td>\n",
       "      <td>4.136832e+02</td>\n",
       "      <td>691.20</td>\n",
       "    </tr>\n",
       "  </tbody>\n",
       "</table>\n",
       "</div>"
      ],
      "text/plain": [
       "                   count          mean            std         min  \\\n",
       "transaction_id  359392.0  1.022076e+07  126805.803715  10000011.0   \n",
       "km_travelled    359392.0  2.256725e+01      12.233526         1.9   \n",
       "price_charged   359392.0  4.234433e+02     274.378911        15.6   \n",
       "cost_of_trip    359392.0  2.861901e+02     157.993661        19.0   \n",
       "\n",
       "                         25%          50%           75%          max  \n",
       "transaction_id  1.011081e+07  10221035.50  1.033094e+07  10440107.00  \n",
       "km_travelled    1.200000e+01        22.44  3.296000e+01        48.00  \n",
       "price_charged   2.064375e+02       386.36  5.836600e+02      2048.03  \n",
       "cost_of_trip    1.512000e+02       282.48  4.136832e+02       691.20  "
      ]
     },
     "execution_count": 14,
     "metadata": {},
     "output_type": "execute_result"
    }
   ],
   "source": [
    "df_cab.describe().T"
   ]
  },
  {
   "cell_type": "markdown",
   "id": "2629ecba-7e9e-4a13-9f51-a5c2e642826f",
   "metadata": {},
   "source": [
    "### <font color = #7B68EE> Customer dataset operations"
   ]
  },
  {
   "cell_type": "code",
   "execution_count": 15,
   "id": "a3c1c96f-bf0c-4024-b4bd-56cff4be9b0b",
   "metadata": {},
   "outputs": [
    {
     "data": {
      "text/html": [
       "<div>\n",
       "<style scoped>\n",
       "    .dataframe tbody tr th:only-of-type {\n",
       "        vertical-align: middle;\n",
       "    }\n",
       "\n",
       "    .dataframe tbody tr th {\n",
       "        vertical-align: top;\n",
       "    }\n",
       "\n",
       "    .dataframe thead th {\n",
       "        text-align: right;\n",
       "    }\n",
       "</style>\n",
       "<table border=\"1\" class=\"dataframe\">\n",
       "  <thead>\n",
       "    <tr style=\"text-align: right;\">\n",
       "      <th></th>\n",
       "      <th>customer_id</th>\n",
       "      <th>gender</th>\n",
       "      <th>age</th>\n",
       "      <th>income_(usd/month)</th>\n",
       "    </tr>\n",
       "  </thead>\n",
       "  <tbody>\n",
       "    <tr>\n",
       "      <th>0</th>\n",
       "      <td>29290</td>\n",
       "      <td>Male</td>\n",
       "      <td>28</td>\n",
       "      <td>10813</td>\n",
       "    </tr>\n",
       "    <tr>\n",
       "      <th>1</th>\n",
       "      <td>27703</td>\n",
       "      <td>Male</td>\n",
       "      <td>27</td>\n",
       "      <td>9237</td>\n",
       "    </tr>\n",
       "    <tr>\n",
       "      <th>2</th>\n",
       "      <td>28712</td>\n",
       "      <td>Male</td>\n",
       "      <td>53</td>\n",
       "      <td>11242</td>\n",
       "    </tr>\n",
       "    <tr>\n",
       "      <th>3</th>\n",
       "      <td>28020</td>\n",
       "      <td>Male</td>\n",
       "      <td>23</td>\n",
       "      <td>23327</td>\n",
       "    </tr>\n",
       "    <tr>\n",
       "      <th>4</th>\n",
       "      <td>27182</td>\n",
       "      <td>Male</td>\n",
       "      <td>33</td>\n",
       "      <td>8536</td>\n",
       "    </tr>\n",
       "  </tbody>\n",
       "</table>\n",
       "</div>"
      ],
      "text/plain": [
       "   customer_id gender  age  income_(usd/month)\n",
       "0        29290   Male   28               10813\n",
       "1        27703   Male   27                9237\n",
       "2        28712   Male   53               11242\n",
       "3        28020   Male   23               23327\n",
       "4        27182   Male   33                8536"
      ]
     },
     "execution_count": 15,
     "metadata": {},
     "output_type": "execute_result"
    }
   ],
   "source": [
    "df_customer_id.head()"
   ]
  },
  {
   "cell_type": "code",
   "execution_count": 16,
   "id": "6098cb84-e872-47e6-b0ed-d701a51a2e89",
   "metadata": {},
   "outputs": [
    {
     "name": "stdout",
     "output_type": "stream",
     "text": [
      "Rows:  49171\n",
      "Columns:  4\n"
     ]
    }
   ],
   "source": [
    "print(\"Rows: \",df_customer_id.shape[0])\n",
    "print(\"Columns: \",df_customer_id.shape[1])"
   ]
  },
  {
   "cell_type": "code",
   "execution_count": 17,
   "id": "a1dd371e-1d99-4c1b-827a-11deb7a284ad",
   "metadata": {},
   "outputs": [
    {
     "data": {
      "text/html": [
       "<div>\n",
       "<style scoped>\n",
       "    .dataframe tbody tr th:only-of-type {\n",
       "        vertical-align: middle;\n",
       "    }\n",
       "\n",
       "    .dataframe tbody tr th {\n",
       "        vertical-align: top;\n",
       "    }\n",
       "\n",
       "    .dataframe thead th {\n",
       "        text-align: right;\n",
       "    }\n",
       "</style>\n",
       "<table border=\"1\" class=\"dataframe\">\n",
       "  <thead>\n",
       "    <tr style=\"text-align: right;\">\n",
       "      <th></th>\n",
       "      <th>count</th>\n",
       "      <th>mean</th>\n",
       "      <th>std</th>\n",
       "      <th>min</th>\n",
       "      <th>25%</th>\n",
       "      <th>50%</th>\n",
       "      <th>75%</th>\n",
       "      <th>max</th>\n",
       "    </tr>\n",
       "  </thead>\n",
       "  <tbody>\n",
       "    <tr>\n",
       "      <th>customer_id</th>\n",
       "      <td>49171.0</td>\n",
       "      <td>28398.252283</td>\n",
       "      <td>17714.137333</td>\n",
       "      <td>1.0</td>\n",
       "      <td>12654.5</td>\n",
       "      <td>27631.0</td>\n",
       "      <td>43284.5</td>\n",
       "      <td>60000.0</td>\n",
       "    </tr>\n",
       "    <tr>\n",
       "      <th>age</th>\n",
       "      <td>49171.0</td>\n",
       "      <td>35.363121</td>\n",
       "      <td>12.599066</td>\n",
       "      <td>18.0</td>\n",
       "      <td>25.0</td>\n",
       "      <td>33.0</td>\n",
       "      <td>42.0</td>\n",
       "      <td>65.0</td>\n",
       "    </tr>\n",
       "    <tr>\n",
       "      <th>income_(usd/month)</th>\n",
       "      <td>49171.0</td>\n",
       "      <td>15015.631856</td>\n",
       "      <td>8002.208253</td>\n",
       "      <td>2000.0</td>\n",
       "      <td>8289.5</td>\n",
       "      <td>14656.0</td>\n",
       "      <td>21035.0</td>\n",
       "      <td>35000.0</td>\n",
       "    </tr>\n",
       "  </tbody>\n",
       "</table>\n",
       "</div>"
      ],
      "text/plain": [
       "                      count          mean           std     min      25%  \\\n",
       "customer_id         49171.0  28398.252283  17714.137333     1.0  12654.5   \n",
       "age                 49171.0     35.363121     12.599066    18.0     25.0   \n",
       "income_(usd/month)  49171.0  15015.631856   8002.208253  2000.0   8289.5   \n",
       "\n",
       "                        50%      75%      max  \n",
       "customer_id         27631.0  43284.5  60000.0  \n",
       "age                    33.0     42.0     65.0  \n",
       "income_(usd/month)  14656.0  21035.0  35000.0  "
      ]
     },
     "execution_count": 17,
     "metadata": {},
     "output_type": "execute_result"
    }
   ],
   "source": [
    "df_customer_id.describe().T"
   ]
  },
  {
   "cell_type": "markdown",
   "id": "4b4ac353-ac0d-43e2-ae53-a972f3a0ce74",
   "metadata": {},
   "source": [
    "### <font color = #7B68EE> Transaction dataset operations"
   ]
  },
  {
   "cell_type": "code",
   "execution_count": 18,
   "id": "47a667d5-e5d6-4e2c-825b-0c785c7418f0",
   "metadata": {},
   "outputs": [
    {
     "data": {
      "text/html": [
       "<div>\n",
       "<style scoped>\n",
       "    .dataframe tbody tr th:only-of-type {\n",
       "        vertical-align: middle;\n",
       "    }\n",
       "\n",
       "    .dataframe tbody tr th {\n",
       "        vertical-align: top;\n",
       "    }\n",
       "\n",
       "    .dataframe thead th {\n",
       "        text-align: right;\n",
       "    }\n",
       "</style>\n",
       "<table border=\"1\" class=\"dataframe\">\n",
       "  <thead>\n",
       "    <tr style=\"text-align: right;\">\n",
       "      <th></th>\n",
       "      <th>transaction_id</th>\n",
       "      <th>customer_id</th>\n",
       "      <th>payment_mode</th>\n",
       "    </tr>\n",
       "  </thead>\n",
       "  <tbody>\n",
       "    <tr>\n",
       "      <th>0</th>\n",
       "      <td>10000011</td>\n",
       "      <td>29290</td>\n",
       "      <td>Card</td>\n",
       "    </tr>\n",
       "    <tr>\n",
       "      <th>1</th>\n",
       "      <td>10000012</td>\n",
       "      <td>27703</td>\n",
       "      <td>Card</td>\n",
       "    </tr>\n",
       "    <tr>\n",
       "      <th>2</th>\n",
       "      <td>10000013</td>\n",
       "      <td>28712</td>\n",
       "      <td>Cash</td>\n",
       "    </tr>\n",
       "    <tr>\n",
       "      <th>3</th>\n",
       "      <td>10000014</td>\n",
       "      <td>28020</td>\n",
       "      <td>Cash</td>\n",
       "    </tr>\n",
       "    <tr>\n",
       "      <th>4</th>\n",
       "      <td>10000015</td>\n",
       "      <td>27182</td>\n",
       "      <td>Card</td>\n",
       "    </tr>\n",
       "  </tbody>\n",
       "</table>\n",
       "</div>"
      ],
      "text/plain": [
       "   transaction_id  customer_id payment_mode\n",
       "0        10000011        29290         Card\n",
       "1        10000012        27703         Card\n",
       "2        10000013        28712         Cash\n",
       "3        10000014        28020         Cash\n",
       "4        10000015        27182         Card"
      ]
     },
     "execution_count": 18,
     "metadata": {},
     "output_type": "execute_result"
    }
   ],
   "source": [
    "df_transaction_id.head()"
   ]
  },
  {
   "cell_type": "code",
   "execution_count": 19,
   "id": "62c0d77a-dff3-42dd-93d7-ce3d491e9688",
   "metadata": {},
   "outputs": [
    {
     "name": "stdout",
     "output_type": "stream",
     "text": [
      "Rows:  440098\n",
      "Columns:  3\n"
     ]
    }
   ],
   "source": [
    "print(\"Rows: \",df_transaction_id.shape[0])\n",
    "print(\"Columns: \",df_transaction_id.shape[1])"
   ]
  },
  {
   "cell_type": "markdown",
   "id": "a62f8708-be36-474f-a59c-e75120ea9371",
   "metadata": {},
   "source": [
    "### <font color = #7B68EE> City dataset operations"
   ]
  },
  {
   "cell_type": "code",
   "execution_count": 20,
   "id": "eb29a1b0-e202-498b-b7bd-fbcc614064ec",
   "metadata": {},
   "outputs": [
    {
     "data": {
      "text/html": [
       "<div>\n",
       "<style scoped>\n",
       "    .dataframe tbody tr th:only-of-type {\n",
       "        vertical-align: middle;\n",
       "    }\n",
       "\n",
       "    .dataframe tbody tr th {\n",
       "        vertical-align: top;\n",
       "    }\n",
       "\n",
       "    .dataframe thead th {\n",
       "        text-align: right;\n",
       "    }\n",
       "</style>\n",
       "<table border=\"1\" class=\"dataframe\">\n",
       "  <thead>\n",
       "    <tr style=\"text-align: right;\">\n",
       "      <th></th>\n",
       "      <th>city</th>\n",
       "      <th>population</th>\n",
       "      <th>users</th>\n",
       "    </tr>\n",
       "  </thead>\n",
       "  <tbody>\n",
       "    <tr>\n",
       "      <th>0</th>\n",
       "      <td>NEW YORK NY</td>\n",
       "      <td>8,405,837</td>\n",
       "      <td>302,149</td>\n",
       "    </tr>\n",
       "    <tr>\n",
       "      <th>1</th>\n",
       "      <td>CHICAGO IL</td>\n",
       "      <td>1,955,130</td>\n",
       "      <td>164,468</td>\n",
       "    </tr>\n",
       "    <tr>\n",
       "      <th>2</th>\n",
       "      <td>LOS ANGELES CA</td>\n",
       "      <td>1,595,037</td>\n",
       "      <td>144,132</td>\n",
       "    </tr>\n",
       "    <tr>\n",
       "      <th>3</th>\n",
       "      <td>MIAMI FL</td>\n",
       "      <td>1,339,155</td>\n",
       "      <td>17,675</td>\n",
       "    </tr>\n",
       "    <tr>\n",
       "      <th>4</th>\n",
       "      <td>SILICON VALLEY</td>\n",
       "      <td>1,177,609</td>\n",
       "      <td>27,247</td>\n",
       "    </tr>\n",
       "    <tr>\n",
       "      <th>5</th>\n",
       "      <td>ORANGE COUNTY</td>\n",
       "      <td>1,030,185</td>\n",
       "      <td>12,994</td>\n",
       "    </tr>\n",
       "    <tr>\n",
       "      <th>6</th>\n",
       "      <td>SAN DIEGO CA</td>\n",
       "      <td>959,307</td>\n",
       "      <td>69,995</td>\n",
       "    </tr>\n",
       "    <tr>\n",
       "      <th>7</th>\n",
       "      <td>PHOENIX AZ</td>\n",
       "      <td>943,999</td>\n",
       "      <td>6,133</td>\n",
       "    </tr>\n",
       "    <tr>\n",
       "      <th>8</th>\n",
       "      <td>DALLAS TX</td>\n",
       "      <td>942,908</td>\n",
       "      <td>22,157</td>\n",
       "    </tr>\n",
       "    <tr>\n",
       "      <th>9</th>\n",
       "      <td>ATLANTA GA</td>\n",
       "      <td>814,885</td>\n",
       "      <td>24,701</td>\n",
       "    </tr>\n",
       "    <tr>\n",
       "      <th>10</th>\n",
       "      <td>DENVER CO</td>\n",
       "      <td>754,233</td>\n",
       "      <td>12,421</td>\n",
       "    </tr>\n",
       "    <tr>\n",
       "      <th>11</th>\n",
       "      <td>AUSTIN TX</td>\n",
       "      <td>698,371</td>\n",
       "      <td>14,978</td>\n",
       "    </tr>\n",
       "    <tr>\n",
       "      <th>12</th>\n",
       "      <td>SEATTLE WA</td>\n",
       "      <td>671,238</td>\n",
       "      <td>25,063</td>\n",
       "    </tr>\n",
       "    <tr>\n",
       "      <th>13</th>\n",
       "      <td>TUCSON AZ</td>\n",
       "      <td>631,442</td>\n",
       "      <td>5,712</td>\n",
       "    </tr>\n",
       "    <tr>\n",
       "      <th>14</th>\n",
       "      <td>SAN FRANCISCO CA</td>\n",
       "      <td>629,591</td>\n",
       "      <td>213,609</td>\n",
       "    </tr>\n",
       "    <tr>\n",
       "      <th>15</th>\n",
       "      <td>SACRAMENTO CA</td>\n",
       "      <td>545,776</td>\n",
       "      <td>7,044</td>\n",
       "    </tr>\n",
       "    <tr>\n",
       "      <th>16</th>\n",
       "      <td>PITTSBURGH PA</td>\n",
       "      <td>542,085</td>\n",
       "      <td>3,643</td>\n",
       "    </tr>\n",
       "    <tr>\n",
       "      <th>17</th>\n",
       "      <td>WASHINGTON DC</td>\n",
       "      <td>418,859</td>\n",
       "      <td>127,001</td>\n",
       "    </tr>\n",
       "    <tr>\n",
       "      <th>18</th>\n",
       "      <td>NASHVILLE TN</td>\n",
       "      <td>327,225</td>\n",
       "      <td>9,270</td>\n",
       "    </tr>\n",
       "    <tr>\n",
       "      <th>19</th>\n",
       "      <td>BOSTON MA</td>\n",
       "      <td>248,968</td>\n",
       "      <td>80,021</td>\n",
       "    </tr>\n",
       "  </tbody>\n",
       "</table>\n",
       "</div>"
      ],
      "text/plain": [
       "                city   population      users\n",
       "0        NEW YORK NY   8,405,837    302,149 \n",
       "1         CHICAGO IL   1,955,130    164,468 \n",
       "2     LOS ANGELES CA   1,595,037    144,132 \n",
       "3           MIAMI FL   1,339,155     17,675 \n",
       "4     SILICON VALLEY   1,177,609     27,247 \n",
       "5      ORANGE COUNTY   1,030,185     12,994 \n",
       "6       SAN DIEGO CA     959,307     69,995 \n",
       "7         PHOENIX AZ     943,999      6,133 \n",
       "8          DALLAS TX     942,908     22,157 \n",
       "9         ATLANTA GA     814,885     24,701 \n",
       "10         DENVER CO     754,233     12,421 \n",
       "11         AUSTIN TX     698,371     14,978 \n",
       "12        SEATTLE WA     671,238     25,063 \n",
       "13         TUCSON AZ     631,442      5,712 \n",
       "14  SAN FRANCISCO CA     629,591    213,609 \n",
       "15     SACRAMENTO CA     545,776      7,044 \n",
       "16     PITTSBURGH PA     542,085      3,643 \n",
       "17     WASHINGTON DC     418,859    127,001 \n",
       "18      NASHVILLE TN     327,225      9,270 \n",
       "19         BOSTON MA     248,968     80,021 "
      ]
     },
     "execution_count": 20,
     "metadata": {},
     "output_type": "execute_result"
    }
   ],
   "source": [
    "df_city"
   ]
  },
  {
   "cell_type": "code",
   "execution_count": 21,
   "id": "93bf8cc2-9ff4-4323-a9c8-a079cab108d5",
   "metadata": {},
   "outputs": [
    {
     "name": "stdout",
     "output_type": "stream",
     "text": [
      "Rows:  20\n",
      "Columns:  3\n"
     ]
    }
   ],
   "source": [
    "print(\"Rows: \",df_city.shape[0])\n",
    "print(\"Columns: \",df_city.shape[1])"
   ]
  },
  {
   "cell_type": "code",
   "execution_count": 22,
   "id": "fbe090ad-6c31-433d-a32b-716b868866e3",
   "metadata": {},
   "outputs": [],
   "source": [
    "def convert_int(x):\n",
    "    return x.replace(\",\",\"\")"
   ]
  },
  {
   "cell_type": "code",
   "execution_count": 23,
   "id": "35a0126e-4503-4419-bcaa-7a48a053da5e",
   "metadata": {},
   "outputs": [],
   "source": [
    "df_city[\"population\"] = pd.to_numeric(df_city[\"population\"].apply(convert_int))\n",
    "df_city[\"users\"]=pd.to_numeric(df_city[\"users\"].apply(convert_int))"
   ]
  },
  {
   "cell_type": "markdown",
   "id": "5d9f9086-9570-47fe-b36b-b8e0d353f7f9",
   "metadata": {},
   "source": [
    "## <font color =        #03A89E > Part 4: </font> <font color =     #7B68EE > Merge Operation and Field/feature transformations\n",
    "</font>"
   ]
  },
  {
   "cell_type": "code",
   "execution_count": 24,
   "id": "ec10c525-6501-45cd-9ef6-9f2ad74f02d5",
   "metadata": {},
   "outputs": [],
   "source": [
    "df_Cab_copy=df_cab.copy()\n",
    "\n",
    "df_City_copy=df_city.copy()\n",
    "\n",
    "df_Customer_ID_copy=df_customer_id.copy()\n",
    "\n",
    "df_Transaction_ID_copy=df_transaction_id.copy()"
   ]
  },
  {
   "cell_type": "code",
   "execution_count": 25,
   "id": "20f6d637-1780-47d2-b5b4-6ed2ff03ca88",
   "metadata": {},
   "outputs": [],
   "source": [
    "df=df_cab.merge(df_transaction_id,on=\"transaction_id\").merge(df_customer_id,on=\"customer_id\",how=\"left\").merge(df_city,on=\"city\",how=\"left\")"
   ]
  },
  {
   "cell_type": "code",
   "execution_count": 26,
   "id": "ae10f209-682e-4af5-aedd-986be066c41a",
   "metadata": {},
   "outputs": [
    {
     "name": "stdout",
     "output_type": "stream",
     "text": [
      "Rows:  359392\n",
      "Columns:  14\n"
     ]
    }
   ],
   "source": [
    "print(\"Rows: \", df.shape[0])\n",
    "print(\"Columns: \",df.shape[1])"
   ]
  },
  {
   "cell_type": "code",
   "execution_count": 27,
   "id": "781fc418-cc60-49be-bbe2-c38c93d9e3c4",
   "metadata": {},
   "outputs": [
    {
     "data": {
      "text/plain": [
       "transaction_id        0\n",
       "date_of_travel        0\n",
       "company               0\n",
       "city                  0\n",
       "km_travelled          0\n",
       "price_charged         0\n",
       "cost_of_trip          0\n",
       "customer_id           0\n",
       "payment_mode          0\n",
       "gender                0\n",
       "age                   0\n",
       "income_(usd/month)    0\n",
       "population            0\n",
       "users                 0\n",
       "dtype: int64"
      ]
     },
     "execution_count": 27,
     "metadata": {},
     "output_type": "execute_result"
    }
   ],
   "source": [
    "df.isna().sum()"
   ]
  },
  {
   "cell_type": "code",
   "execution_count": 28,
   "id": "346e54b7-b802-49d3-9e18-025c81e26185",
   "metadata": {},
   "outputs": [],
   "source": [
    "df[\"year\"]=df[\"date_of_travel\"].dt.year\n",
    "df[\"month\"]=df[\"date_of_travel\"].dt.month\n",
    "df[\"day\"]=df[\"date_of_travel\"].dt.day\n",
    "df[\"days_of_week\"]=df.date_of_travel.apply(lambda x : datetime.strftime(x,'%A'))"
   ]
  },
  {
   "cell_type": "markdown",
   "id": "5f04a91e-c33d-41e9-ba21-3ff66a68d0ce",
   "metadata": {},
   "source": [
    "### <font color = #7B68EE> İmporting Holiday data and Merge to Master Data"
   ]
  },
  {
   "cell_type": "code",
   "execution_count": 29,
   "id": "494699af-7775-49b0-889a-74fa3497fd21",
   "metadata": {},
   "outputs": [],
   "source": [
    "holiday=pd.read_csv(\"US Holiday Dates (2004-2021).csv\")\n",
    "holiday.drop(columns=[\"WeekDay\",\"Month\",\"Day\",\"Year\"],axis=1,inplace=True)"
   ]
  },
  {
   "cell_type": "code",
   "execution_count": 68,
   "id": "e4c7efee-d8a5-48cb-be9c-17ed5e3e36b0",
   "metadata": {},
   "outputs": [
    {
     "data": {
      "text/plain": [
       "(342, 3)"
      ]
     },
     "execution_count": 68,
     "metadata": {},
     "output_type": "execute_result"
    }
   ],
   "source": [
    "holiday.shape"
   ]
  },
  {
   "cell_type": "code",
   "execution_count": 31,
   "id": "ae73f137-f145-4ffe-9271-e2df6dce09be",
   "metadata": {},
   "outputs": [],
   "source": [
    "holiday[\"Date\"]=pd.to_datetime(holiday[\"Date\"])\n",
    "holiday[\"date_of_holiday\"]=holiday[\"Date\"]"
   ]
  },
  {
   "cell_type": "code",
   "execution_count": 32,
   "id": "387cd39f-7735-42a0-bd5d-46592b777960",
   "metadata": {},
   "outputs": [],
   "source": [
    "df=df.merge(holiday,left_on=\"date_of_travel\",right_on=\"date_of_holiday\",how=\"left\")\n",
    "df.drop([\"date_of_holiday\",\"Date\"],axis=1,inplace=True)\n",
    "df[\"Holiday\"]=df[\"Holiday\"].notnull()"
   ]
  },
  {
   "cell_type": "code",
   "execution_count": 33,
   "id": "a40a3e1f-7c18-4526-a4e2-0f3a983b47e1",
   "metadata": {},
   "outputs": [],
   "source": [
    "Weekend_Weekday={\"Saturday\":\"Weekend\",'Thursday':\"Weekday\", 'Sunday':\"Weekend\", 'Friday':\"Weekday\", 'Monday':\"Weekday\", 'Wednesday':\"Weekday\",\n",
    "       'Tuesday':\"Weekday\"}"
   ]
  },
  {
   "cell_type": "code",
   "execution_count": 34,
   "id": "b322da29-aacc-4a4c-8de1-69cb94e687f2",
   "metadata": {},
   "outputs": [],
   "source": [
    "Weekend_Weekday={\"Saturday\":\"Weekend\",'Thursday':\"Weekday\", 'Sunday':\"Weekend\", 'Friday':\"Weekday\", 'Monday':\"Weekday\", 'Wednesday':\"Weekday\",'Tuesday':\"Weekday\"}\n",
    "df[\"day_status\"]=df[\"days_of_week\"]\n",
    "df[\"day_status\"]=df[\"day_status\"].map(Weekend_Weekday)"
   ]
  },
  {
   "cell_type": "code",
   "execution_count": 35,
   "id": "009fe655-4cb3-4921-b609-995c39ca51b1",
   "metadata": {},
   "outputs": [],
   "source": [
    "season_month_north = {\n",
    "            12:'Winter', 1:'Winter', 2:'Winter',\n",
    "            3:'Spring', 4:'Spring', 5:'Spring',\n",
    "            6:'Summer', 7:'Summer', 8:'Summer',\n",
    "            9:'Autumn', 10:'Autumn', 11:'Autumn'}\n",
    "    \n",
    "df[\"season\"]=df[\"month\"].map(season_month_north)"
   ]
  },
  {
   "cell_type": "code",
   "execution_count": 36,
   "id": "0b2215b9-6121-4b40-a5ff-fa8501366eae",
   "metadata": {},
   "outputs": [],
   "source": [
    "def city_split(x):\n",
    "    if len(x.split()[-1])<3:\n",
    "        return  x.split()[-1]"
   ]
  },
  {
   "cell_type": "code",
   "execution_count": 37,
   "id": "b9240be9-a4da-4106-87ef-0e0e25115db6",
   "metadata": {},
   "outputs": [],
   "source": [
    "df[\"teritory\"]=df[\"city\"].apply(city_split)"
   ]
  },
  {
   "cell_type": "code",
   "execution_count": 38,
   "id": "a60ab68a-9bed-4f1a-9666-ba510c4788a6",
   "metadata": {},
   "outputs": [],
   "source": [
    "def city_rename(x):\n",
    "    if len(x.split()[-1])<3 :\n",
    "        return  \" \".join(x.split()[0:-1])\n",
    "    else :\n",
    "        return x"
   ]
  },
  {
   "cell_type": "code",
   "execution_count": 39,
   "id": "23876c84-7086-4596-ad44-e05545fb208f",
   "metadata": {},
   "outputs": [],
   "source": [
    "df[\"teritory\"]=df[\"city\"].apply(city_split)\n",
    "df[\"city\"]=df[\"city\"].apply(city_rename)\n",
    "df.teritory=df.teritory.fillna(\"CA\")"
   ]
  },
  {
   "cell_type": "markdown",
   "id": "b0b1e14e-b858-44eb-9d57-c7777f43bbcb",
   "metadata": {},
   "source": [
    "### <font color = #7B68EE> importing Land square of Us dataset"
   ]
  },
  {
   "cell_type": "code",
   "execution_count": 40,
   "id": "47d1a25d-610e-4e13-8039-00fabc415000",
   "metadata": {},
   "outputs": [],
   "source": [
    "df_us_land_square_raw=pd.read_html(\"https://en.wikipedia.org/wiki/List_of_United_States_cities_by_area\")[1]"
   ]
  },
  {
   "cell_type": "code",
   "execution_count": 67,
   "id": "765e2dfa-bb58-4baa-bdc8-9c129c1321e0",
   "metadata": {},
   "outputs": [
    {
     "data": {
      "text/html": [
       "<div>\n",
       "<style scoped>\n",
       "    .dataframe tbody tr th:only-of-type {\n",
       "        vertical-align: middle;\n",
       "    }\n",
       "\n",
       "    .dataframe tbody tr th {\n",
       "        vertical-align: top;\n",
       "    }\n",
       "\n",
       "    .dataframe thead th {\n",
       "        text-align: right;\n",
       "    }\n",
       "</style>\n",
       "<table border=\"1\" class=\"dataframe\">\n",
       "  <thead>\n",
       "    <tr style=\"text-align: right;\">\n",
       "      <th></th>\n",
       "      <th>Rank</th>\n",
       "      <th>City</th>\n",
       "      <th>State</th>\n",
       "      <th>Land area (sq mi)</th>\n",
       "      <th>Land area (km2)</th>\n",
       "      <th>Water area (sq mi)</th>\n",
       "      <th>Water area (km2)</th>\n",
       "      <th>Total area (sq mi)</th>\n",
       "      <th>Total area (km2)</th>\n",
       "      <th>Population (2020)[2]</th>\n",
       "    </tr>\n",
       "  </thead>\n",
       "  <tbody>\n",
       "    <tr>\n",
       "      <th>0</th>\n",
       "      <td>1</td>\n",
       "      <td>Sitka</td>\n",
       "      <td>Alaska</td>\n",
       "      <td>2870.1</td>\n",
       "      <td>7434</td>\n",
       "      <td>1945.1</td>\n",
       "      <td>5038.0</td>\n",
       "      <td>4815.1</td>\n",
       "      <td>12471</td>\n",
       "      <td>8458</td>\n",
       "    </tr>\n",
       "    <tr>\n",
       "      <th>1</th>\n",
       "      <td>2</td>\n",
       "      <td>Juneau</td>\n",
       "      <td>Alaska</td>\n",
       "      <td>2704.0</td>\n",
       "      <td>7003</td>\n",
       "      <td>550.7</td>\n",
       "      <td>1426.0</td>\n",
       "      <td>3254.7</td>\n",
       "      <td>8430</td>\n",
       "      <td>32255</td>\n",
       "    </tr>\n",
       "    <tr>\n",
       "      <th>2</th>\n",
       "      <td>3</td>\n",
       "      <td>Wrangell</td>\n",
       "      <td>Alaska</td>\n",
       "      <td>2556.0</td>\n",
       "      <td>6620</td>\n",
       "      <td>920.6</td>\n",
       "      <td>2384.0</td>\n",
       "      <td>3476.6</td>\n",
       "      <td>9004</td>\n",
       "      <td>2127</td>\n",
       "    </tr>\n",
       "    <tr>\n",
       "      <th>3</th>\n",
       "      <td>4</td>\n",
       "      <td>Anchorage</td>\n",
       "      <td>Alaska</td>\n",
       "      <td>1706.8</td>\n",
       "      <td>4421</td>\n",
       "      <td>239.9</td>\n",
       "      <td>621.0</td>\n",
       "      <td>1946.7</td>\n",
       "      <td>5042</td>\n",
       "      <td>291247</td>\n",
       "    </tr>\n",
       "    <tr>\n",
       "      <th>4</th>\n",
       "      <td>5</td>\n",
       "      <td>Tribune [note 1]*</td>\n",
       "      <td>Kansas</td>\n",
       "      <td>778.2</td>\n",
       "      <td>2016</td>\n",
       "      <td>0.0</td>\n",
       "      <td>0.0</td>\n",
       "      <td>778.2</td>\n",
       "      <td>2016</td>\n",
       "      <td>1182</td>\n",
       "    </tr>\n",
       "  </tbody>\n",
       "</table>\n",
       "</div>"
      ],
      "text/plain": [
       "   Rank               City   State  Land area (sq mi)  Land area (km2)  \\\n",
       "0     1              Sitka  Alaska             2870.1             7434   \n",
       "1     2             Juneau  Alaska             2704.0             7003   \n",
       "2     3           Wrangell  Alaska             2556.0             6620   \n",
       "3     4          Anchorage  Alaska             1706.8             4421   \n",
       "4     5  Tribune [note 1]*  Kansas              778.2             2016   \n",
       "\n",
       "   Water area (sq mi)  Water area (km2)  Total area (sq mi)  Total area (km2)  \\\n",
       "0              1945.1            5038.0              4815.1             12471   \n",
       "1               550.7            1426.0              3254.7              8430   \n",
       "2               920.6            2384.0              3476.6              9004   \n",
       "3               239.9             621.0              1946.7              5042   \n",
       "4                 0.0               0.0               778.2              2016   \n",
       "\n",
       "   Population (2020)[2]  \n",
       "0                  8458  \n",
       "1                 32255  \n",
       "2                  2127  \n",
       "3                291247  \n",
       "4                  1182  "
      ]
     },
     "execution_count": 67,
     "metadata": {},
     "output_type": "execute_result"
    }
   ],
   "source": [
    "df_us_land_square_raw.head() "
   ]
  },
  {
   "cell_type": "markdown",
   "id": "8236aab0-1db4-4566-8726-f6b13c7eac61",
   "metadata": {},
   "source": [
    "##### <font color =  #950CDF> String operations to merging data"
   ]
  },
  {
   "cell_type": "code",
   "execution_count": 42,
   "id": "ac19f510-3d8d-4e41-8a2a-fd260d1337bf",
   "metadata": {},
   "outputs": [],
   "source": [
    "df_land_area=df_us_land_square_raw[[\"City\",\"Land area (km2)\"]]\n",
    "df_land_area[\"City\"]=df_land_area[\"City\"].apply(lambda x: x.upper())\n",
    "df_land_area[\"City\"]=df_land_area[\"City\"].apply(lambda x: x.translate(str.maketrans('', '', string.punctuation)).translate(str.maketrans('', '', string.digits)).replace(\" NOTE \",\"\").strip(\" \"))\n",
    "df_land_area[\"City\"]=df_land_area[\"City\"].apply(lambda x: x.replace(\" CITY\",\"\"))"
   ]
  },
  {
   "cell_type": "code",
   "execution_count": 43,
   "id": "43508702-02b4-4523-ab47-7ac0bd6ed5cf",
   "metadata": {
    "tags": []
   },
   "outputs": [],
   "source": [
    "df=df.merge(df_land_area,right_on=\"City\",left_on=\"city\",how=\"left\")\n",
    "df.drop(\"City\",axis=1,inplace=True)"
   ]
  },
  {
   "cell_type": "code",
   "execution_count": 44,
   "id": "122bf7a8-4d11-4616-ab92-c9befba95442",
   "metadata": {
    "tags": []
   },
   "outputs": [
    {
     "data": {
      "text/plain": [
       "transaction_id            0\n",
       "date_of_travel            0\n",
       "company                   0\n",
       "city                      0\n",
       "km_travelled              0\n",
       "price_charged             0\n",
       "cost_of_trip              0\n",
       "customer_id               0\n",
       "payment_mode              0\n",
       "gender                    0\n",
       "age                       0\n",
       "income_(usd/month)        0\n",
       "population                0\n",
       "users                     0\n",
       "year                      0\n",
       "month                     0\n",
       "day                       0\n",
       "days_of_week              0\n",
       "Holiday                   0\n",
       "day_status                0\n",
       "season                    0\n",
       "teritory                  0\n",
       "Land area (km2)       93737\n",
       "dtype: int64"
      ]
     },
     "execution_count": 44,
     "metadata": {},
     "output_type": "execute_result"
    }
   ],
   "source": [
    "df.isnull().sum()"
   ]
  },
  {
   "cell_type": "code",
   "execution_count": 45,
   "id": "e6259df7-b1a9-4558-97bc-28a9dfeef67f",
   "metadata": {},
   "outputs": [],
   "source": [
    "#There are some missing values about cities.Filling them with the values below\n",
    "missing_city={'WASHINGTON':177  , 'BOSTON': 232, 'SILICON VALLEY': 4801, 'MIAMI': 143, 'ORANGE COUNTY':2048,\n",
    "       'PITTSBURGH':151.1,\"SAN FRANCISCO\" : 121}"
   ]
  },
  {
   "cell_type": "code",
   "execution_count": 46,
   "id": "d9d31b3d-8c23-4a4c-a3fe-1e34236ffc67",
   "metadata": {},
   "outputs": [],
   "source": [
    "df[\"Land area (km2)\"]=df[\"Land area (km2)\"].mask(df[\"Land area (km2)\"].isna(),df[\"city\"],axis=0)\n",
    "#Function for missing value\n",
    "def missing_lands(x):\n",
    "    for key,value in missing_city.items():\n",
    "        if key==x:\n",
    "            return value\n",
    "    else:\n",
    "        return x\n",
    "    \n",
    "df[\"Land area (km2)\"]=df[\"Land area (km2)\"].apply(missing_lands)"
   ]
  },
  {
   "cell_type": "code",
   "execution_count": 47,
   "id": "2173184a-4ecb-4773-b594-feef4b7ee0d4",
   "metadata": {},
   "outputs": [
    {
     "data": {
      "text/plain": [
       "0"
      ]
     },
     "execution_count": 47,
     "metadata": {},
     "output_type": "execute_result"
    }
   ],
   "source": [
    "df.isna().sum().sum()"
   ]
  },
  {
   "cell_type": "markdown",
   "id": "5a348dcd-0eb7-4acb-b7ad-d8c1dce2ab3b",
   "metadata": {},
   "source": [
    "### <font color = #7B68EE> Creating New Columns"
   ]
  },
  {
   "cell_type": "code",
   "execution_count": 48,
   "id": "d6c29841-0928-46ac-a62b-afee78553e67",
   "metadata": {},
   "outputs": [],
   "source": [
    "def mapping_age(age):\n",
    "    if age > 18 and age <= 25 :\n",
    "        return \"18-25\"\n",
    "    elif age > 25 and age <= 40 :\n",
    "        return \"25-40\"\n",
    "    elif age > 40 and age < 60  :\n",
    "        return \"40-60\"\n",
    "    else:\n",
    "        return \"60+\"\n",
    "\n",
    "\n",
    "\n",
    "def mapping_income(income):\n",
    "    if income <= 2500:\n",
    "        return \"low-class\"\n",
    "    elif income > 2500 and income <= 15000 :\n",
    "        return \"middle-class\"\n",
    "    else:\n",
    "        return \"high-class\"\n"
   ]
  },
  {
   "cell_type": "code",
   "execution_count": 49,
   "id": "92c0dc2b-567a-455f-8a0e-0428239ddfcb",
   "metadata": {},
   "outputs": [],
   "source": [
    "df[\"population_density\"]=df[\"population\"]/df[\"Land area (km2)\"]\n",
    "df[\"users_density\"]=df[\"users\"]/df[\"Land area (km2)\"]\n",
    "df[\"user_frequency\"]=df[\"population\"]-df[\"users\"]\n",
    "df[\"profit\"]=df[\"price_charged\"]-df[\"cost_of_trip\"]\n",
    "df[\"profit_margin\"]=(df[\"price_charged\"]-df[\"cost_of_trip\"])/df[\"cost_of_trip\"]\n",
    "df[\"profit_margin_per_km\"]=df[\"profit_margin\"]/df[\"km_travelled\"]\n",
    "df[\"profit_per_km\"]=df[\"profit\"]/df[\"km_travelled\"]\n",
    "df[\"cost_per_km\"]=df[\"cost_of_trip\"]/df[\"km_travelled\"]\n",
    "df[\"price_charged_per_km\"]=df[\"price_charged\"]/df[\"km_travelled\"]\n",
    "df['profit_percentage_per_trip'] = ((df['profit'] / df['cost_of_trip'])*100).round(2)\n",
    "df[\"profit_margin_per_km\"]=df[\"profit_margin\"]/df[\"km_travelled\"]**2\n",
    "df[\"age_summary\"] = df[\"age\"].transform(mapping_age)\n",
    "df[\"income_summary\"] = df[\"income_(usd/month)\"].transform(mapping_income)"
   ]
  },
  {
   "cell_type": "code",
   "execution_count": 50,
   "id": "f7f201c1-d9f5-4b3c-adb9-893effac3697",
   "metadata": {},
   "outputs": [],
   "source": [
    "df.columns=df.columns.str.replace(\" \",\"_\")\n",
    "df.columns=df.columns.str.lower()"
   ]
  },
  {
   "cell_type": "code",
   "execution_count": 51,
   "id": "12a4e25f-b53e-46f0-87df-57e88eddeddb",
   "metadata": {},
   "outputs": [
    {
     "data": {
      "text/html": [
       "<div>\n",
       "<style scoped>\n",
       "    .dataframe tbody tr th:only-of-type {\n",
       "        vertical-align: middle;\n",
       "    }\n",
       "\n",
       "    .dataframe tbody tr th {\n",
       "        vertical-align: top;\n",
       "    }\n",
       "\n",
       "    .dataframe thead th {\n",
       "        text-align: right;\n",
       "    }\n",
       "</style>\n",
       "<table border=\"1\" class=\"dataframe\">\n",
       "  <thead>\n",
       "    <tr style=\"text-align: right;\">\n",
       "      <th></th>\n",
       "      <th>count</th>\n",
       "      <th>mean</th>\n",
       "      <th>std</th>\n",
       "      <th>min</th>\n",
       "      <th>25%</th>\n",
       "      <th>50%</th>\n",
       "      <th>75%</th>\n",
       "      <th>max</th>\n",
       "    </tr>\n",
       "  </thead>\n",
       "  <tbody>\n",
       "    <tr>\n",
       "      <th>km_travelled</th>\n",
       "      <td>359571.0</td>\n",
       "      <td>22.568</td>\n",
       "      <td>12.234</td>\n",
       "      <td>1.900</td>\n",
       "      <td>12.000</td>\n",
       "      <td>22.440</td>\n",
       "      <td>32.960</td>\n",
       "      <td>48.000</td>\n",
       "    </tr>\n",
       "    <tr>\n",
       "      <th>price_charged</th>\n",
       "      <td>359571.0</td>\n",
       "      <td>423.458</td>\n",
       "      <td>274.395</td>\n",
       "      <td>15.600</td>\n",
       "      <td>206.480</td>\n",
       "      <td>386.380</td>\n",
       "      <td>583.660</td>\n",
       "      <td>2048.030</td>\n",
       "    </tr>\n",
       "    <tr>\n",
       "      <th>cost_of_trip</th>\n",
       "      <td>359571.0</td>\n",
       "      <td>286.194</td>\n",
       "      <td>157.997</td>\n",
       "      <td>19.000</td>\n",
       "      <td>151.200</td>\n",
       "      <td>282.480</td>\n",
       "      <td>413.683</td>\n",
       "      <td>691.200</td>\n",
       "    </tr>\n",
       "    <tr>\n",
       "      <th>age</th>\n",
       "      <td>359571.0</td>\n",
       "      <td>35.337</td>\n",
       "      <td>12.594</td>\n",
       "      <td>18.000</td>\n",
       "      <td>25.000</td>\n",
       "      <td>33.000</td>\n",
       "      <td>42.000</td>\n",
       "      <td>65.000</td>\n",
       "    </tr>\n",
       "    <tr>\n",
       "      <th>income_(usd/month)</th>\n",
       "      <td>359571.0</td>\n",
       "      <td>15048.613</td>\n",
       "      <td>7969.366</td>\n",
       "      <td>2000.000</td>\n",
       "      <td>8424.000</td>\n",
       "      <td>14685.000</td>\n",
       "      <td>21035.000</td>\n",
       "      <td>35000.000</td>\n",
       "    </tr>\n",
       "    <tr>\n",
       "      <th>population</th>\n",
       "      <td>359571.0</td>\n",
       "      <td>3132069.970</td>\n",
       "      <td>3315102.248</td>\n",
       "      <td>248968.000</td>\n",
       "      <td>671238.000</td>\n",
       "      <td>1595037.000</td>\n",
       "      <td>8405837.000</td>\n",
       "      <td>8405837.000</td>\n",
       "    </tr>\n",
       "    <tr>\n",
       "      <th>users</th>\n",
       "      <td>359571.0</td>\n",
       "      <td>158363.566</td>\n",
       "      <td>100847.376</td>\n",
       "      <td>3643.000</td>\n",
       "      <td>80021.000</td>\n",
       "      <td>144132.000</td>\n",
       "      <td>302149.000</td>\n",
       "      <td>302149.000</td>\n",
       "    </tr>\n",
       "    <tr>\n",
       "      <th>year</th>\n",
       "      <td>359571.0</td>\n",
       "      <td>2017.167</td>\n",
       "      <td>0.861</td>\n",
       "      <td>2016.000</td>\n",
       "      <td>2016.000</td>\n",
       "      <td>2017.000</td>\n",
       "      <td>2018.000</td>\n",
       "      <td>2019.000</td>\n",
       "    </tr>\n",
       "    <tr>\n",
       "      <th>month</th>\n",
       "      <td>359571.0</td>\n",
       "      <td>6.985</td>\n",
       "      <td>3.742</td>\n",
       "      <td>1.000</td>\n",
       "      <td>4.000</td>\n",
       "      <td>8.000</td>\n",
       "      <td>10.000</td>\n",
       "      <td>12.000</td>\n",
       "    </tr>\n",
       "    <tr>\n",
       "      <th>day</th>\n",
       "      <td>359571.0</td>\n",
       "      <td>15.603</td>\n",
       "      <td>8.849</td>\n",
       "      <td>1.000</td>\n",
       "      <td>8.000</td>\n",
       "      <td>16.000</td>\n",
       "      <td>23.000</td>\n",
       "      <td>31.000</td>\n",
       "    </tr>\n",
       "    <tr>\n",
       "      <th>land_area_(km2)</th>\n",
       "      <td>359571.0</td>\n",
       "      <td>768.090</td>\n",
       "      <td>726.827</td>\n",
       "      <td>143.000</td>\n",
       "      <td>255.000</td>\n",
       "      <td>778.000</td>\n",
       "      <td>844.000</td>\n",
       "      <td>4801.000</td>\n",
       "    </tr>\n",
       "    <tr>\n",
       "      <th>population_density</th>\n",
       "      <td>359571.0</td>\n",
       "      <td>4530.399</td>\n",
       "      <td>4097.549</td>\n",
       "      <td>245.284</td>\n",
       "      <td>1311.708</td>\n",
       "      <td>2366.435</td>\n",
       "      <td>10804.418</td>\n",
       "      <td>10804.418</td>\n",
       "    </tr>\n",
       "    <tr>\n",
       "      <th>users_density</th>\n",
       "      <td>359571.0</td>\n",
       "      <td>296.197</td>\n",
       "      <td>204.674</td>\n",
       "      <td>4.570</td>\n",
       "      <td>118.530</td>\n",
       "      <td>278.759</td>\n",
       "      <td>388.366</td>\n",
       "      <td>717.520</td>\n",
       "    </tr>\n",
       "    <tr>\n",
       "      <th>user_frequency</th>\n",
       "      <td>359571.0</td>\n",
       "      <td>2973706.404</td>\n",
       "      <td>3223033.298</td>\n",
       "      <td>168947.000</td>\n",
       "      <td>646175.000</td>\n",
       "      <td>1450905.000</td>\n",
       "      <td>8103688.000</td>\n",
       "      <td>8103688.000</td>\n",
       "    </tr>\n",
       "    <tr>\n",
       "      <th>profit</th>\n",
       "      <td>359571.0</td>\n",
       "      <td>137.264</td>\n",
       "      <td>160.331</td>\n",
       "      <td>-220.060</td>\n",
       "      <td>28.015</td>\n",
       "      <td>81.974</td>\n",
       "      <td>190.031</td>\n",
       "      <td>1463.966</td>\n",
       "    </tr>\n",
       "    <tr>\n",
       "      <th>profit_margin</th>\n",
       "      <td>359571.0</td>\n",
       "      <td>0.475</td>\n",
       "      <td>0.426</td>\n",
       "      <td>-0.409</td>\n",
       "      <td>0.161</td>\n",
       "      <td>0.359</td>\n",
       "      <td>0.713</td>\n",
       "      <td>3.202</td>\n",
       "    </tr>\n",
       "    <tr>\n",
       "      <th>profit_margin_per_km</th>\n",
       "      <td>359571.0</td>\n",
       "      <td>0.007</td>\n",
       "      <td>0.025</td>\n",
       "      <td>-0.083</td>\n",
       "      <td>0.000</td>\n",
       "      <td>0.001</td>\n",
       "      <td>0.003</td>\n",
       "      <td>0.686</td>\n",
       "    </tr>\n",
       "    <tr>\n",
       "      <th>profit_per_km</th>\n",
       "      <td>359571.0</td>\n",
       "      <td>6.084</td>\n",
       "      <td>5.544</td>\n",
       "      <td>-4.998</td>\n",
       "      <td>2.001</td>\n",
       "      <td>4.467</td>\n",
       "      <td>9.170</td>\n",
       "      <td>41.116</td>\n",
       "    </tr>\n",
       "    <tr>\n",
       "      <th>cost_per_km</th>\n",
       "      <td>359571.0</td>\n",
       "      <td>12.682</td>\n",
       "      <td>1.168</td>\n",
       "      <td>10.000</td>\n",
       "      <td>12.000</td>\n",
       "      <td>12.840</td>\n",
       "      <td>13.680</td>\n",
       "      <td>14.400</td>\n",
       "    </tr>\n",
       "    <tr>\n",
       "      <th>price_charged_per_km</th>\n",
       "      <td>359571.0</td>\n",
       "      <td>18.766</td>\n",
       "      <td>5.879</td>\n",
       "      <td>6.339</td>\n",
       "      <td>14.452</td>\n",
       "      <td>17.154</td>\n",
       "      <td>22.235</td>\n",
       "      <td>53.956</td>\n",
       "    </tr>\n",
       "    <tr>\n",
       "      <th>profit_percentage_per_trip</th>\n",
       "      <td>359571.0</td>\n",
       "      <td>47.528</td>\n",
       "      <td>42.578</td>\n",
       "      <td>-40.930</td>\n",
       "      <td>16.090</td>\n",
       "      <td>35.930</td>\n",
       "      <td>71.270</td>\n",
       "      <td>320.210</td>\n",
       "    </tr>\n",
       "  </tbody>\n",
       "</table>\n",
       "</div>"
      ],
      "text/plain": [
       "                               count         mean          std         min  \\\n",
       "km_travelled                359571.0       22.568       12.234       1.900   \n",
       "price_charged               359571.0      423.458      274.395      15.600   \n",
       "cost_of_trip                359571.0      286.194      157.997      19.000   \n",
       "age                         359571.0       35.337       12.594      18.000   \n",
       "income_(usd/month)          359571.0    15048.613     7969.366    2000.000   \n",
       "population                  359571.0  3132069.970  3315102.248  248968.000   \n",
       "users                       359571.0   158363.566   100847.376    3643.000   \n",
       "year                        359571.0     2017.167        0.861    2016.000   \n",
       "month                       359571.0        6.985        3.742       1.000   \n",
       "day                         359571.0       15.603        8.849       1.000   \n",
       "land_area_(km2)             359571.0      768.090      726.827     143.000   \n",
       "population_density          359571.0     4530.399     4097.549     245.284   \n",
       "users_density               359571.0      296.197      204.674       4.570   \n",
       "user_frequency              359571.0  2973706.404  3223033.298  168947.000   \n",
       "profit                      359571.0      137.264      160.331    -220.060   \n",
       "profit_margin               359571.0        0.475        0.426      -0.409   \n",
       "profit_margin_per_km        359571.0        0.007        0.025      -0.083   \n",
       "profit_per_km               359571.0        6.084        5.544      -4.998   \n",
       "cost_per_km                 359571.0       12.682        1.168      10.000   \n",
       "price_charged_per_km        359571.0       18.766        5.879       6.339   \n",
       "profit_percentage_per_trip  359571.0       47.528       42.578     -40.930   \n",
       "\n",
       "                                   25%          50%          75%          max  \n",
       "km_travelled                    12.000       22.440       32.960       48.000  \n",
       "price_charged                  206.480      386.380      583.660     2048.030  \n",
       "cost_of_trip                   151.200      282.480      413.683      691.200  \n",
       "age                             25.000       33.000       42.000       65.000  \n",
       "income_(usd/month)            8424.000    14685.000    21035.000    35000.000  \n",
       "population                  671238.000  1595037.000  8405837.000  8405837.000  \n",
       "users                        80021.000   144132.000   302149.000   302149.000  \n",
       "year                          2016.000     2017.000     2018.000     2019.000  \n",
       "month                            4.000        8.000       10.000       12.000  \n",
       "day                              8.000       16.000       23.000       31.000  \n",
       "land_area_(km2)                255.000      778.000      844.000     4801.000  \n",
       "population_density            1311.708     2366.435    10804.418    10804.418  \n",
       "users_density                  118.530      278.759      388.366      717.520  \n",
       "user_frequency              646175.000  1450905.000  8103688.000  8103688.000  \n",
       "profit                          28.015       81.974      190.031     1463.966  \n",
       "profit_margin                    0.161        0.359        0.713        3.202  \n",
       "profit_margin_per_km             0.000        0.001        0.003        0.686  \n",
       "profit_per_km                    2.001        4.467        9.170       41.116  \n",
       "cost_per_km                     12.000       12.840       13.680       14.400  \n",
       "price_charged_per_km            14.452       17.154       22.235       53.956  \n",
       "profit_percentage_per_trip      16.090       35.930       71.270      320.210  "
      ]
     },
     "execution_count": 51,
     "metadata": {},
     "output_type": "execute_result"
    }
   ],
   "source": [
    "df.describe().apply(lambda x: x.round(3)).drop([\"transaction_id\",\"customer_id\"],axis=1).T"
   ]
  },
  {
   "cell_type": "markdown",
   "id": "725225c9-0d23-454b-bd97-45cff0ae9c6b",
   "metadata": {},
   "source": [
    "## <font color =        #03A89E > Part 5: </font> <font color =     #7B68EE > Explorotory Data Analysis</font>"
   ]
  },
  {
   "cell_type": "code",
   "execution_count": 52,
   "id": "d3c7ed37-0bef-4a49-a872-d6df7d204d8a",
   "metadata": {},
   "outputs": [
    {
     "data": {
      "text/html": [
       "<div>\n",
       "<style scoped>\n",
       "    .dataframe tbody tr th:only-of-type {\n",
       "        vertical-align: middle;\n",
       "    }\n",
       "\n",
       "    .dataframe tbody tr th {\n",
       "        vertical-align: top;\n",
       "    }\n",
       "\n",
       "    .dataframe thead th {\n",
       "        text-align: right;\n",
       "    }\n",
       "</style>\n",
       "<table border=\"1\" class=\"dataframe\">\n",
       "  <thead>\n",
       "    <tr style=\"text-align: right;\">\n",
       "      <th></th>\n",
       "      <th>transaction_id</th>\n",
       "      <th>date_of_travel</th>\n",
       "      <th>company</th>\n",
       "      <th>city</th>\n",
       "      <th>km_travelled</th>\n",
       "      <th>price_charged</th>\n",
       "      <th>cost_of_trip</th>\n",
       "      <th>customer_id</th>\n",
       "      <th>payment_mode</th>\n",
       "      <th>gender</th>\n",
       "      <th>age</th>\n",
       "      <th>income_(usd/month)</th>\n",
       "      <th>population</th>\n",
       "      <th>users</th>\n",
       "      <th>year</th>\n",
       "      <th>month</th>\n",
       "      <th>day</th>\n",
       "      <th>days_of_week</th>\n",
       "      <th>holiday</th>\n",
       "      <th>day_status</th>\n",
       "      <th>season</th>\n",
       "      <th>teritory</th>\n",
       "      <th>land_area_(km2)</th>\n",
       "      <th>population_density</th>\n",
       "      <th>users_density</th>\n",
       "      <th>user_frequency</th>\n",
       "      <th>profit</th>\n",
       "      <th>profit_margin</th>\n",
       "      <th>profit_margin_per_km</th>\n",
       "      <th>profit_per_km</th>\n",
       "      <th>cost_per_km</th>\n",
       "      <th>price_charged_per_km</th>\n",
       "      <th>profit_percentage_per_trip</th>\n",
       "      <th>age_summary</th>\n",
       "      <th>income_summary</th>\n",
       "    </tr>\n",
       "  </thead>\n",
       "  <tbody>\n",
       "    <tr>\n",
       "      <th>0</th>\n",
       "      <td>10000011</td>\n",
       "      <td>2016-02-06</td>\n",
       "      <td>Pink Cab</td>\n",
       "      <td>ATLANTA</td>\n",
       "      <td>30.45</td>\n",
       "      <td>370.95</td>\n",
       "      <td>313.635</td>\n",
       "      <td>29290</td>\n",
       "      <td>Card</td>\n",
       "      <td>Male</td>\n",
       "      <td>28</td>\n",
       "      <td>10813</td>\n",
       "      <td>814885</td>\n",
       "      <td>24701</td>\n",
       "      <td>2016</td>\n",
       "      <td>2</td>\n",
       "      <td>6</td>\n",
       "      <td>Saturday</td>\n",
       "      <td>False</td>\n",
       "      <td>Weekend</td>\n",
       "      <td>Winter</td>\n",
       "      <td>GA</td>\n",
       "      <td>350.0</td>\n",
       "      <td>2328.242857</td>\n",
       "      <td>70.574286</td>\n",
       "      <td>790184</td>\n",
       "      <td>57.315</td>\n",
       "      <td>0.182744</td>\n",
       "      <td>0.000197</td>\n",
       "      <td>1.882266</td>\n",
       "      <td>10.3</td>\n",
       "      <td>12.182266</td>\n",
       "      <td>18.27</td>\n",
       "      <td>25-40</td>\n",
       "      <td>middle-class</td>\n",
       "    </tr>\n",
       "    <tr>\n",
       "      <th>1</th>\n",
       "      <td>10000012</td>\n",
       "      <td>2016-02-04</td>\n",
       "      <td>Pink Cab</td>\n",
       "      <td>ATLANTA</td>\n",
       "      <td>28.62</td>\n",
       "      <td>358.52</td>\n",
       "      <td>334.854</td>\n",
       "      <td>27703</td>\n",
       "      <td>Card</td>\n",
       "      <td>Male</td>\n",
       "      <td>27</td>\n",
       "      <td>9237</td>\n",
       "      <td>814885</td>\n",
       "      <td>24701</td>\n",
       "      <td>2016</td>\n",
       "      <td>2</td>\n",
       "      <td>4</td>\n",
       "      <td>Thursday</td>\n",
       "      <td>False</td>\n",
       "      <td>Weekday</td>\n",
       "      <td>Winter</td>\n",
       "      <td>GA</td>\n",
       "      <td>350.0</td>\n",
       "      <td>2328.242857</td>\n",
       "      <td>70.574286</td>\n",
       "      <td>790184</td>\n",
       "      <td>23.666</td>\n",
       "      <td>0.070676</td>\n",
       "      <td>0.000086</td>\n",
       "      <td>0.826904</td>\n",
       "      <td>11.7</td>\n",
       "      <td>12.526904</td>\n",
       "      <td>7.07</td>\n",
       "      <td>25-40</td>\n",
       "      <td>middle-class</td>\n",
       "    </tr>\n",
       "    <tr>\n",
       "      <th>2</th>\n",
       "      <td>10000013</td>\n",
       "      <td>2016-01-31</td>\n",
       "      <td>Pink Cab</td>\n",
       "      <td>ATLANTA</td>\n",
       "      <td>9.04</td>\n",
       "      <td>125.20</td>\n",
       "      <td>97.632</td>\n",
       "      <td>28712</td>\n",
       "      <td>Cash</td>\n",
       "      <td>Male</td>\n",
       "      <td>53</td>\n",
       "      <td>11242</td>\n",
       "      <td>814885</td>\n",
       "      <td>24701</td>\n",
       "      <td>2016</td>\n",
       "      <td>1</td>\n",
       "      <td>31</td>\n",
       "      <td>Sunday</td>\n",
       "      <td>False</td>\n",
       "      <td>Weekend</td>\n",
       "      <td>Winter</td>\n",
       "      <td>GA</td>\n",
       "      <td>350.0</td>\n",
       "      <td>2328.242857</td>\n",
       "      <td>70.574286</td>\n",
       "      <td>790184</td>\n",
       "      <td>27.568</td>\n",
       "      <td>0.282366</td>\n",
       "      <td>0.003455</td>\n",
       "      <td>3.049558</td>\n",
       "      <td>10.8</td>\n",
       "      <td>13.849558</td>\n",
       "      <td>28.24</td>\n",
       "      <td>40-60</td>\n",
       "      <td>middle-class</td>\n",
       "    </tr>\n",
       "    <tr>\n",
       "      <th>3</th>\n",
       "      <td>10000014</td>\n",
       "      <td>2016-02-05</td>\n",
       "      <td>Pink Cab</td>\n",
       "      <td>ATLANTA</td>\n",
       "      <td>33.17</td>\n",
       "      <td>377.40</td>\n",
       "      <td>351.602</td>\n",
       "      <td>28020</td>\n",
       "      <td>Cash</td>\n",
       "      <td>Male</td>\n",
       "      <td>23</td>\n",
       "      <td>23327</td>\n",
       "      <td>814885</td>\n",
       "      <td>24701</td>\n",
       "      <td>2016</td>\n",
       "      <td>2</td>\n",
       "      <td>5</td>\n",
       "      <td>Friday</td>\n",
       "      <td>False</td>\n",
       "      <td>Weekday</td>\n",
       "      <td>Winter</td>\n",
       "      <td>GA</td>\n",
       "      <td>350.0</td>\n",
       "      <td>2328.242857</td>\n",
       "      <td>70.574286</td>\n",
       "      <td>790184</td>\n",
       "      <td>25.798</td>\n",
       "      <td>0.073373</td>\n",
       "      <td>0.000067</td>\n",
       "      <td>0.777751</td>\n",
       "      <td>10.6</td>\n",
       "      <td>11.377751</td>\n",
       "      <td>7.34</td>\n",
       "      <td>18-25</td>\n",
       "      <td>high-class</td>\n",
       "    </tr>\n",
       "  </tbody>\n",
       "</table>\n",
       "</div>"
      ],
      "text/plain": [
       "   transaction_id date_of_travel   company     city  km_travelled  \\\n",
       "0        10000011     2016-02-06  Pink Cab  ATLANTA         30.45   \n",
       "1        10000012     2016-02-04  Pink Cab  ATLANTA         28.62   \n",
       "2        10000013     2016-01-31  Pink Cab  ATLANTA          9.04   \n",
       "3        10000014     2016-02-05  Pink Cab  ATLANTA         33.17   \n",
       "\n",
       "   price_charged  cost_of_trip  customer_id payment_mode gender  age  \\\n",
       "0         370.95       313.635        29290         Card   Male   28   \n",
       "1         358.52       334.854        27703         Card   Male   27   \n",
       "2         125.20        97.632        28712         Cash   Male   53   \n",
       "3         377.40       351.602        28020         Cash   Male   23   \n",
       "\n",
       "   income_(usd/month)  population  users  year  month  day days_of_week  \\\n",
       "0               10813      814885  24701  2016      2    6     Saturday   \n",
       "1                9237      814885  24701  2016      2    4     Thursday   \n",
       "2               11242      814885  24701  2016      1   31       Sunday   \n",
       "3               23327      814885  24701  2016      2    5       Friday   \n",
       "\n",
       "   holiday day_status  season teritory  land_area_(km2)  population_density  \\\n",
       "0    False    Weekend  Winter       GA            350.0         2328.242857   \n",
       "1    False    Weekday  Winter       GA            350.0         2328.242857   \n",
       "2    False    Weekend  Winter       GA            350.0         2328.242857   \n",
       "3    False    Weekday  Winter       GA            350.0         2328.242857   \n",
       "\n",
       "   users_density  user_frequency  profit  profit_margin  profit_margin_per_km  \\\n",
       "0      70.574286          790184  57.315       0.182744              0.000197   \n",
       "1      70.574286          790184  23.666       0.070676              0.000086   \n",
       "2      70.574286          790184  27.568       0.282366              0.003455   \n",
       "3      70.574286          790184  25.798       0.073373              0.000067   \n",
       "\n",
       "   profit_per_km  cost_per_km  price_charged_per_km  \\\n",
       "0       1.882266         10.3             12.182266   \n",
       "1       0.826904         11.7             12.526904   \n",
       "2       3.049558         10.8             13.849558   \n",
       "3       0.777751         10.6             11.377751   \n",
       "\n",
       "   profit_percentage_per_trip age_summary income_summary  \n",
       "0                       18.27       25-40   middle-class  \n",
       "1                        7.07       25-40   middle-class  \n",
       "2                       28.24       40-60   middle-class  \n",
       "3                        7.34       18-25     high-class  "
      ]
     },
     "execution_count": 52,
     "metadata": {},
     "output_type": "execute_result"
    }
   ],
   "source": [
    "df.head(4)"
   ]
  },
  {
   "cell_type": "code",
   "execution_count": 53,
   "id": "45020871-8752-4780-b380-329eaa601fb4",
   "metadata": {
    "tags": []
   },
   "outputs": [
    {
     "name": "stdout",
     "output_type": "stream",
     "text": [
      "<class 'pandas.core.frame.DataFrame'>\n",
      "Int64Index: 359571 entries, 0 to 359570\n",
      "Data columns (total 35 columns):\n",
      " #   Column                      Non-Null Count   Dtype         \n",
      "---  ------                      --------------   -----         \n",
      " 0   transaction_id              359571 non-null  int64         \n",
      " 1   date_of_travel              359571 non-null  datetime64[ns]\n",
      " 2   company                     359571 non-null  category      \n",
      " 3   city                        359571 non-null  object        \n",
      " 4   km_travelled                359571 non-null  float64       \n",
      " 5   price_charged               359571 non-null  float64       \n",
      " 6   cost_of_trip                359571 non-null  float64       \n",
      " 7   customer_id                 359571 non-null  int64         \n",
      " 8   payment_mode                359571 non-null  category      \n",
      " 9   gender                      359571 non-null  category      \n",
      " 10  age                         359571 non-null  int64         \n",
      " 11  income_(usd/month)          359571 non-null  int64         \n",
      " 12  population                  359571 non-null  int64         \n",
      " 13  users                       359571 non-null  int64         \n",
      " 14  year                        359571 non-null  int64         \n",
      " 15  month                       359571 non-null  int64         \n",
      " 16  day                         359571 non-null  int64         \n",
      " 17  days_of_week                359571 non-null  object        \n",
      " 18  holiday                     359571 non-null  bool          \n",
      " 19  day_status                  359571 non-null  object        \n",
      " 20  season                      359571 non-null  object        \n",
      " 21  teritory                    359571 non-null  object        \n",
      " 22  land_area_(km2)             359571 non-null  float64       \n",
      " 23  population_density          359571 non-null  float64       \n",
      " 24  users_density               359571 non-null  float64       \n",
      " 25  user_frequency              359571 non-null  int64         \n",
      " 26  profit                      359571 non-null  float64       \n",
      " 27  profit_margin               359571 non-null  float64       \n",
      " 28  profit_margin_per_km        359571 non-null  float64       \n",
      " 29  profit_per_km               359571 non-null  float64       \n",
      " 30  cost_per_km                 359571 non-null  float64       \n",
      " 31  price_charged_per_km        359571 non-null  float64       \n",
      " 32  profit_percentage_per_trip  359571 non-null  float64       \n",
      " 33  age_summary                 359571 non-null  object        \n",
      " 34  income_summary              359571 non-null  object        \n",
      "dtypes: bool(1), category(3), datetime64[ns](1), float64(13), int64(10), object(7)\n",
      "memory usage: 89.2+ MB\n"
     ]
    }
   ],
   "source": [
    "df.info()"
   ]
  },
  {
   "cell_type": "markdown",
   "id": "c113e100-90b0-4ba8-9197-5ea90d64a070",
   "metadata": {},
   "source": [
    "### <font color = #7B68EE> Investigate about Profit"
   ]
  },
  {
   "cell_type": "code",
   "execution_count": 54,
   "id": "fe03e973-d49b-4805-b0db-d0930e754eaf",
   "metadata": {},
   "outputs": [
    {
     "data": {
      "image/png": "[encoded data removed]",
      "text/plain": [
       "<Figure size 432x288 with 1 Axes>"
      ]
     },
     "metadata": {
      "needs_background": "light"
     },
     "output_type": "display_data"
    }
   ],
   "source": [
    "sns.countplot(x=\"company\",data=df);\n",
    "plt.title(\"Counts of Users by company\");"
   ]
  },
  {
   "cell_type": "markdown",
   "id": "77f56979-047a-43c1-a506-4989a217c347",
   "metadata": {},
   "source": [
    "Yellow Cab has more user."
   ]
  },
  {
   "cell_type": "code",
   "execution_count": 55,
   "id": "4d1c9c5d-47e3-429c-a110-c522b697d90b",
   "metadata": {},
   "outputs": [
    {
     "data": {
      "image/png": "[encoded data removed]",
      "text/plain": [
       "<Figure size 1080x432 with 3 Axes>"
      ]
     },
     "metadata": {
      "needs_background": "light"
     },
     "output_type": "display_data"
    }
   ],
   "source": [
    "fig,axes = plt.subplots(1, 3, figsize=(15,6), sharey=False)\n",
    "fig.suptitle(\"Comparison of Profit\")\n",
    "sns.barplot(ax=axes[0], data=df , y=\"cost_of_trip\" , x=\"company\")\n",
    "sns.barplot(ax=axes[1], data=df , y=\"price_charged\" ,x=\"company\")\n",
    "sns.barplot(ax=axes[2], data=df , y=\"profit\" ,  x=\"company\");"
   ]
  },
  {
   "cell_type": "markdown",
   "id": "fcac16d7-5f90-45cb-a9a9-f39d54239cf0",
   "metadata": {},
   "source": [
    "Yellow Cab seems much more profitable instead of pink cab"
   ]
  },
  {
   "cell_type": "code",
   "execution_count": 56,
   "id": "82e2a99a-638f-4d12-9190-61f5a89bc830",
   "metadata": {},
   "outputs": [
    {
     "data": {
      "image/png": "[encoded data removed]",
      "text/plain": [
       "<Figure size 1008x648 with 1 Axes>"
      ]
     },
     "metadata": {
      "needs_background": "light"
     },
     "output_type": "display_data"
    }
   ],
   "source": [
    "plt.figure(figsize=(14,9))\n",
    "ax=plt.subplot()\n",
    "ax = sns.barplot(data=df, x=\"year\" , y=\"profit\",hue=\"company\")\n",
    "ax.bar_label(ax.containers[0])\n",
    "ax.bar_label(ax.containers[1])\n",
    "plt.legend();\n",
    "ax.set_title(\"Avr.Profit per ride\");"
   ]
  },
  {
   "cell_type": "code",
   "execution_count": 57,
   "id": "92fb56a6-2c80-4355-a4bc-42b37b400096",
   "metadata": {},
   "outputs": [
    {
     "data": {
      "image/png": "[encoded data removed]",
      "text/plain": [
       "<Figure size 1008x648 with 1 Axes>"
      ]
     },
     "metadata": {
      "needs_background": "light"
     },
     "output_type": "display_data"
    }
   ],
   "source": [
    "plt.figure(figsize=(14,9))\n",
    "ax=plt.subplot()\n",
    "ax = sns.barplot(data=df, x=\"year\" , y=\"profit_per_km\",hue=\"company\")\n",
    "ax.bar_label(ax.containers[0])\n",
    "ax.bar_label(ax.containers[1])\n",
    "plt.legend();\n",
    "ax.set_title(\"Avr.Profit per km\");"
   ]
  },
  {
   "cell_type": "code",
   "execution_count": 58,
   "id": "d155d79b-f508-4b28-9cb4-355e27086a39",
   "metadata": {},
   "outputs": [
    {
     "data": {
      "image/png": "[encoded data removed]",
      "text/plain": [
       "<Figure size 1008x648 with 1 Axes>"
      ]
     },
     "metadata": {
      "needs_background": "light"
     },
     "output_type": "display_data"
    }
   ],
   "source": [
    "plt.figure(figsize=(14,9))\n",
    "sns.barplot(y=df[\"profit_margin\"]*100,x=\"company\",hue=\"year\",data=df,);"
   ]
  },
  {
   "cell_type": "markdown",
   "id": "6edd7d90-7ac9-42ee-99ea-b57673f7c8aa",
   "metadata": {},
   "source": [
    "We should ignore years of 2019 when investigating. Because of the lack of observations"
   ]
  },
  {
   "cell_type": "code",
   "execution_count": 59,
   "id": "7854756b-154c-4b52-8d6c-2feb88bc7e10",
   "metadata": {},
   "outputs": [
    {
     "data": {
      "image/png": "[encoded data removed]",
      "text/plain": [
       "<Figure size 1080x504 with 1 Axes>"
      ]
     },
     "metadata": {
      "needs_background": "light"
     },
     "output_type": "display_data"
    }
   ],
   "source": [
    "plt.figure(figsize=(15,7))\n",
    "sns.countplot(x=\"company\",hue=\"year\",data=df[df[\"year\"]!=2019]);\n",
    "plt.title(\"Company users by year\");"
   ]
  },
  {
   "cell_type": "code",
   "execution_count": 60,
   "id": "88683516-baaa-4feb-8158-f0099b43ed81",
   "metadata": {},
   "outputs": [],
   "source": [
    "pink_df=df[df[\"company\"]==\"Pink Cab\"]\n",
    "yellow_df=df[df[\"company\"]==\"Yellow Cab\"]"
   ]
  },
  {
   "cell_type": "code",
   "execution_count": 61,
   "id": "ab5fc286-6735-4f75-afeb-ac2fd6eb99fc",
   "metadata": {},
   "outputs": [],
   "source": [
    "profitable_pink=pink_df[pink_df[\"profit\"]>0].groupby(\"city\").count()/(pink_df.groupby(\"city\").count())*100\n",
    "profitable_yellow=yellow_df[yellow_df[\"profit\"]>0].groupby(\"city\").count()/(yellow_df.groupby(\"city\").count())*100"
   ]
  },
  {
   "cell_type": "code",
   "execution_count": 62,
   "id": "4088f289-8084-4163-a154-0b573db00a8f",
   "metadata": {},
   "outputs": [
    {
     "data": {
      "image/png": "[encoded data removed]",
      "text/plain": [
       "<Figure size 1008x504 with 1 Axes>"
      ]
     },
     "metadata": {
      "needs_background": "light"
     },
     "output_type": "display_data"
    }
   ],
   "source": [
    "plt.figure(figsize=(14,7))\n",
    "sns.countplot(x=\"company\", hue=\"payment_mode\", data=df, palette=['#7FFFD4',\"#cea2fd\"])\n",
    "plt.title('Payment Mode in both companies', fontsize=15);"
   ]
  },
  {
   "cell_type": "code",
   "execution_count": 63,
   "id": "aa8923ef-e0ef-4dbd-b4a6-f495980ad80e",
   "metadata": {},
   "outputs": [
    {
     "data": {
      "image/png": "[encoded data removed]",
      "text/plain": [
       "<Figure size 1080x504 with 1 Axes>"
      ]
     },
     "metadata": {
      "needs_background": "light"
     },
     "output_type": "display_data"
    }
   ],
   "source": [
    "fig, ax = plt.subplots(figsize=(15, 7))\n",
    "df[df[\"year\"]!=2019].groupby([\"year\",\"company\"]).sum()[\"profit\"].unstack().plot(ax=ax, title=\"yearly Profit\", ylabel=\"Profit\", lw=4,marker='o');"
   ]
  },
  {
   "cell_type": "markdown",
   "id": "65a2d67b-ee31-40d9-9e37-9b40db46197e",
   "metadata": {},
   "source": [
    "Yellow Cab has more profit than Pink one by yearly"
   ]
  },
  {
   "cell_type": "code",
   "execution_count": 64,
   "id": "4861f36f-ea06-481c-8451-64caef18c490",
   "metadata": {},
   "outputs": [
    {
     "data": {
      "image/png": "[encoded data removed]",
      "text/plain": [
       "<Figure size 1080x504 with 1 Axes>"
      ]
     },
     "metadata": {
      "needs_background": "light"
     },
     "output_type": "display_data"
    }
   ],
   "source": [
    "fig, ax = plt.subplots(figsize=(15, 7))\n",
    "df[df[\"year\"]!=2019].groupby([\"season\",\"company\"]).sum()[\"profit\"].unstack().plot(ax=ax, title=\"Seasonly Profit\", ylabel=\"Profit\", lw=4,marker='o');"
   ]
  },
  {
   "cell_type": "code",
   "execution_count": 65,
   "id": "aabb71bf-b7fc-4860-b0d5-e4077296f516",
   "metadata": {},
   "outputs": [
    {
     "ename": "NameError",
     "evalue": "name 'profitble_pink' is not defined",
     "output_type": "error",
     "traceback": [
      "\u001b[1;31m---------------------------------------------------------------------------\u001b[0m",
      "\u001b[1;31mNameError\u001b[0m                                 Traceback (most recent call last)",
      "\u001b[1;32m~\\AppData\\Local\\Temp/ipykernel_18412/2686963590.py\u001b[0m in \u001b[0;36m<module>\u001b[1;34m\u001b[0m\n\u001b[0;32m      1\u001b[0m \u001b[0mfig\u001b[0m\u001b[1;33m,\u001b[0m \u001b[0max\u001b[0m \u001b[1;33m=\u001b[0m \u001b[0mplt\u001b[0m\u001b[1;33m.\u001b[0m\u001b[0msubplots\u001b[0m\u001b[1;33m(\u001b[0m\u001b[0mfigsize\u001b[0m\u001b[1;33m=\u001b[0m\u001b[1;33m(\u001b[0m\u001b[1;36m16\u001b[0m\u001b[1;33m,\u001b[0m \u001b[1;36m7\u001b[0m\u001b[1;33m)\u001b[0m\u001b[1;33m)\u001b[0m\u001b[1;33m\u001b[0m\u001b[1;33m\u001b[0m\u001b[0m\n\u001b[1;32m----> 2\u001b[1;33m \u001b[0mprofitble_pink\u001b[0m\u001b[1;33m[\u001b[0m\u001b[1;34m\"transaction_id\"\u001b[0m\u001b[1;33m]\u001b[0m\u001b[1;33m.\u001b[0m\u001b[0mplot\u001b[0m\u001b[1;33m(\u001b[0m\u001b[0max\u001b[0m\u001b[1;33m=\u001b[0m\u001b[0max\u001b[0m\u001b[1;33m,\u001b[0m\u001b[0mkind\u001b[0m\u001b[1;33m=\u001b[0m\u001b[1;34m\"barh\"\u001b[0m\u001b[1;33m,\u001b[0m\u001b[0mcolor\u001b[0m\u001b[1;33m=\u001b[0m\u001b[1;34m\"#f05131\"\u001b[0m\u001b[1;33m,\u001b[0m\u001b[0mwidth\u001b[0m\u001b[1;33m=\u001b[0m\u001b[1;36m0.6\u001b[0m\u001b[1;33m)\u001b[0m\u001b[1;33m;\u001b[0m\u001b[1;33m\u001b[0m\u001b[1;33m\u001b[0m\u001b[0m\n\u001b[0m",
      "\u001b[1;31mNameError\u001b[0m: name 'profitble_pink' is not defined"
     ]
    },
    {
     "data": {
      "image/png": "[encoded data removed]",
      "text/plain": [
       "<Figure size 1152x504 with 1 Axes>"
      ]
     },
     "metadata": {
      "needs_background": "light"
     },
     "output_type": "display_data"
    }
   ],
   "source": [
    "fig, ax = plt.subplots(figsize=(16, 7))\n",
    "profitble_pink[\"transaction_id\"].plot(ax=ax,kind=\"barh\",color=\"#f05131\",width=0.6);"
   ]
  },
  {
   "cell_type": "code",
   "execution_count": null,
   "id": "8ad44164-a8cf-49ae-9912-e1a04df4368f",
   "metadata": {},
   "outputs": [],
   "source": [
    "fig, ax = plt.subplots(figsize=(16, 7))\n",
    "profitble_yellow[\"transaction_id\"].plot(ax=ax,kind=\"barh\",color=\"yellow\",width=0.6);"
   ]
  },
  {
   "cell_type": "code",
   "execution_count": null,
   "id": "e53e098b-3a63-4977-bb7b-540216b38092",
   "metadata": {},
   "outputs": [],
   "source": [
    "plt.figure(figsize=(16,9))\n",
    "sns.barplot(y=\"profit\",x=\"city\",hue=\"company\",data=df)\n",
    "plt.xticks(rotation=90);"
   ]
  },
  {
   "cell_type": "code",
   "execution_count": null,
   "id": "086f6417-d408-4d8d-aa0f-b1b901af9a9a",
   "metadata": {},
   "outputs": [],
   "source": [
    "cor_df=df.drop([\"transaction_id\",\"customer_id\",\"user_frequency\",\"cost_per_km\",\"profit_per_km\",\"profit_percentage_per_trip\",\"price_charged_per_km\",\"profit_margin_per_km\"],axis=1)"
   ]
  },
  {
   "cell_type": "code",
   "execution_count": null,
   "id": "d3d60678-66ee-465b-abfa-89ca86a0e61c",
   "metadata": {},
   "outputs": [],
   "source": [
    "plt.figure(figsize=(20,20))\n",
    "sns.heatmap(cor_df.corr(), square=True,annot=True,cmap=\"Pastel1\");"
   ]
  },
  {
   "cell_type": "markdown",
   "id": "fe56786f-40ab-48b3-a8c9-9eae6edb037e",
   "metadata": {},
   "source": [
    "#Too much corelation between km and cost as we expect"
   ]
  },
  {
   "cell_type": "code",
   "execution_count": null,
   "id": "bd207b4a-2217-49fc-b465-dee004c0d193",
   "metadata": {},
   "outputs": [],
   "source": [
    "df.groupby([\"income_summary\",\"company\"]).sum()[\"profit\"].plot(kind=\"bar\",figsize=(16,7),color=[\"pink\",\"yellow\",\"red\",\"blue\",\"black\",\"green\"])\n",
    "plt.title(\"Profit by income Level\");"
   ]
  },
  {
   "cell_type": "code",
   "execution_count": null,
   "id": "5bf3ce71-c61c-42c3-91d6-f718eccb0ee0",
   "metadata": {},
   "outputs": [],
   "source": [
    "cat_df=df.select_dtypes([\"category\"])"
   ]
  },
  {
   "cell_type": "markdown",
   "id": "d24c95b5-053c-4b3e-a4f2-56554fbf5cd5",
   "metadata": {},
   "source": [
    "### <font color = #7B68EE> Frequency of variables"
   ]
  },
  {
   "cell_type": "code",
   "execution_count": null,
   "id": "3dcde6af-480b-4dfe-851e-dfd5ab4d5c48",
   "metadata": {
    "tags": []
   },
   "outputs": [],
   "source": [
    "for column in cat_df.columns:\n",
    "    plt.figure()\n",
    "    sns.countplot(x=column,data=cat_df)\n",
    "    if cat_df[column].nunique()>8:\n",
    "        plt.xticks(rotation=90)\n",
    "   \n",
    "    plt.xlabel(column)\n",
    "    plt.title(\"Class frequancey of {} variable\".format(column))"
   ]
  },
  {
   "cell_type": "markdown",
   "id": "93d80014-e076-46f4-89d7-21a9f765e2a5",
   "metadata": {},
   "source": [
    "### <font color = #7B68EE> Checking continous variables"
   ]
  },
  {
   "cell_type": "code",
   "execution_count": null,
   "id": "1e68c3b9-d1c7-4aea-8c1a-2348c754e8c4",
   "metadata": {},
   "outputs": [],
   "source": [
    "(sns\n",
    " .FacetGrid(df,row=\"gender\",col=\"payment_mode\",\n",
    "               hue=\"company\",\n",
    "               height=7)\n",
    " .map(sns.kdeplot,\"km_travelled\", shade=True)\n",
    " .add_legend()\n",
    ");\n",
    "               "
   ]
  },
  {
   "cell_type": "code",
   "execution_count": null,
   "id": "e6409230-f2e3-42aa-b7d6-1712e4c875d1",
   "metadata": {},
   "outputs": [],
   "source": [
    "(sns\n",
    " .FacetGrid(df,row=\"gender\",col=\"payment_mode\",\n",
    "               hue=\"company\",\n",
    "               height=7)\n",
    " .map(sns.kdeplot,\"price_charged\", shade=True)\n",
    " .add_legend()\n",
    ");\n",
    "               "
   ]
  },
  {
   "cell_type": "code",
   "execution_count": null,
   "id": "32106f43-bfa0-4f34-a895-12a33a04c64d",
   "metadata": {},
   "outputs": [],
   "source": [
    "(sns\n",
    " .FacetGrid(df,row=\"gender\",col=\"payment_mode\",\n",
    "               hue=\"company\",\n",
    "               height=7)\n",
    " .map(sns.kdeplot,\"profit\", shade=True)\n",
    " .add_legend()\n",
    ");\n",
    "               "
   ]
  },
  {
   "cell_type": "code",
   "execution_count": null,
   "id": "90b0473b-69fe-4030-aaec-aa3831da391d",
   "metadata": {},
   "outputs": [],
   "source": [
    "(sns\n",
    " .FacetGrid(df,row=\"holiday\",col=\"payment_mode\",\n",
    "               hue=\"company\",\n",
    "               height=7)\n",
    " .map(sns.kdeplot,\"price_charged\", shade=True)\n",
    " .add_legend()\n",
    ");\n",
    "               "
   ]
  },
  {
   "cell_type": "code",
   "execution_count": null,
   "id": "3af3c17c-48c0-4ab0-9d7b-abc19f9265e7",
   "metadata": {},
   "outputs": [],
   "source": [
    "plt.figure(figsize=(13,6))\n",
    "sns.scatterplot(x=\"km_travelled\",y=\"price_charged\",hue=\"company\",data=df,alpha=0.01);"
   ]
  },
  {
   "cell_type": "code",
   "execution_count": null,
   "id": "ac816e87-e8fc-43b5-9c89-ad2224a558ef",
   "metadata": {},
   "outputs": [],
   "source": [
    "sns.boxplot(x=df[\"km_travelled\"],y=df[\"gender\"],hue=df[\"holiday\"]);"
   ]
  },
  {
   "cell_type": "markdown",
   "id": "cb7036f4-fc65-46cd-9420-70218b9605c6",
   "metadata": {},
   "source": [
    "### <font color = #7B68EE> Average profit by year,month,day"
   ]
  },
  {
   "cell_type": "code",
   "execution_count": null,
   "id": "a8a23d72-8e02-4e00-8e65-9170e6934296",
   "metadata": {},
   "outputs": [],
   "source": [
    "plt.figure(figsize=(15,7))\n",
    "sns.lineplot(x=\"year\",y=\"profit\",hue=\"company\",lw=4,data=df)\n",
    "plt.suptitle(\"Average profit by Year\");"
   ]
  },
  {
   "cell_type": "code",
   "execution_count": null,
   "id": "d70968e7-d7da-4f17-b2f3-a585acb895bf",
   "metadata": {},
   "outputs": [],
   "source": [
    "g = sns.FacetGrid(df[df[\"year\"]!=2019], col=\"year\", hue=\"company\")\n",
    "g = g.map(sns.lineplot, \"season\", \"profit\",lw=2.6,marker=\"o\", ci=None).add_legend()\n",
    "fig = plt.gcf()\n",
    "fig.set_size_inches(18,7)\n",
    "plt.suptitle(\"Average profit by Season\");"
   ]
  },
  {
   "cell_type": "markdown",
   "id": "ffb73632-fbaa-4619-a6b3-68f4b94a4996",
   "metadata": {},
   "source": [
    "In the summer pink cab profit is always decreasing and also Spring profitable season for Yellow Cab"
   ]
  },
  {
   "cell_type": "code",
   "execution_count": null,
   "id": "da862edc-25dd-41e7-b137-4e1511b8f538",
   "metadata": {},
   "outputs": [],
   "source": [
    "g = sns.FacetGrid(df[df[\"year\"]!=2019], col=\"year\", hue=\"company\")\n",
    "g = g.map(sns.lineplot, \"month\", \"profit\", ci=None).add_legend()\n",
    "fig = plt.gcf()\n",
    "fig.set_size_inches(18,7)\n",
    "plt.suptitle(\"Average profit by Month\");"
   ]
  },
  {
   "cell_type": "code",
   "execution_count": null,
   "id": "461068c2-7d6b-46b5-b392-f0c60d21d93d",
   "metadata": {},
   "outputs": [],
   "source": [
    "g = sns.FacetGrid(df[df[\"year\"]!=2019], col=\"year\", hue=\"company\")\n",
    "g = g.map(sns.lineplot, \"day\", \"profit\", ci=None).add_legend()\n",
    "fig = plt.gcf()\n",
    "fig.set_size_inches(18,7)"
   ]
  },
  {
   "cell_type": "markdown",
   "id": "0dc1af20-30b6-482e-863e-64be69be0db0",
   "metadata": {},
   "source": [
    "### <font color = #7B68EE> Total Profit by time"
   ]
  },
  {
   "cell_type": "code",
   "execution_count": null,
   "id": "4af3f04f-b791-4852-9ec4-6e71c9b3e206",
   "metadata": {},
   "outputs": [],
   "source": [
    "fig, ax = plt.subplots(figsize=(15, 7))\n",
    "df[df[\"year\"]!=2019].groupby([\"year\",\"company\"]).sum()[\"profit\"].unstack().plot(ax=ax, title=\"yearly Profit\", ylabel=\"Profit\", lw=4,marker='o');"
   ]
  },
  {
   "cell_type": "code",
   "execution_count": null,
   "id": "29961a16-a4c8-4ac9-a824-41026c79da99",
   "metadata": {},
   "outputs": [],
   "source": [
    "fig, ax = plt.subplots(figsize=(15, 7))\n",
    "df.groupby([\"month\",\"company\"]).sum()[\"profit\"].unstack().plot(ax=ax, title=\"Monthly Profit\", ylabel=\"Profit\",lw=4, marker='o');"
   ]
  },
  {
   "cell_type": "code",
   "execution_count": null,
   "id": "9d39a796-db47-4e48-a7c5-e95d69b25cf9",
   "metadata": {},
   "outputs": [],
   "source": [
    "fig,axes = plt.subplots(2, 2 , figsize=(26,12), sharey=True)\n",
    "fig.suptitle('Distributions of Target Variables')\n",
    "sns.histplot(ax=axes[0,0], data=df , x=\"cost_of_trip\" , kde = True , hue=\"company\")\n",
    "sns.histplot(ax=axes[0,1], data=df , x=\"price_charged\" , kde = True , hue=\"company\")\n",
    "sns.histplot(ax=axes[1,0], data=df , x=\"profit\" , kde = True , hue=\"company\") \n",
    "sns.histplot(ax=axes[1,1], data=df , x=\"profit_per_km\" , kde = True , hue=\"company\");"
   ]
  },
  {
   "cell_type": "code",
   "execution_count": null,
   "id": "3ae082ab-b1f0-48a5-acfa-29a8a3c140d2",
   "metadata": {},
   "outputs": [],
   "source": [
    "sns.barplot(x=\"company\",y=\"profit\",hue=\"holiday\",data=df);"
   ]
  },
  {
   "cell_type": "code",
   "execution_count": null,
   "id": "d0d10f99-f7fb-48bc-a7f3-a3b9a43ad28e",
   "metadata": {},
   "outputs": [],
   "source": [
    "sns.barplot(x=\"company\",y=\"profit\",hue=\"day_status\",data=df);"
   ]
  },
  {
   "cell_type": "markdown",
   "id": "5faa1c89-8988-44ed-a6e3-640e90578c60",
   "metadata": {},
   "source": [
    "No significant differences for Holidays and day status barplots"
   ]
  },
  {
   "cell_type": "code",
   "execution_count": null,
   "id": "84356afd-034b-4f07-b1d1-0879c8a065ee",
   "metadata": {},
   "outputs": [],
   "source": [
    "df_age_=df.groupby([\"company\",\"age_summary\"])[\"profit_per_km\"].mean()\n",
    "df_age_=df_age_.unstack()\n",
    "df_age_.plot(kind=\"barh\",figsize=(13,7));\n",
    "plt.suptitle(\"Profit per km by Age summary\");"
   ]
  },
  {
   "cell_type": "code",
   "execution_count": null,
   "id": "832566f3-04d0-4156-8471-87f334563f32",
   "metadata": {},
   "outputs": [],
   "source": [
    "df_profit=df[df[\"profit\"]>0]\n",
    "df_unprofit=df[df[\"profit\"]<0]\n",
    "df_profit[\"more_than_1_ride\"]=df_profit[\"customer_id\"].duplicated()\n",
    "df_unprofit[\"more_than_1_ride\"]=df_unprofit[\"customer_id\"].duplicated()\n",
    "df_profit=df_profit.groupby([\"company\",\"more_than_1_ride\"])[\"transaction_id\"].count().unstack()\n",
    "df_unprofit=df_unprofit.groupby([\"company\",\"more_than_1_ride\"])[\"transaction_id\"].count().unstack()"
   ]
  },
  {
   "cell_type": "code",
   "execution_count": null,
   "id": "5388f67a-93b6-4939-9ba6-f53b84ec5c0d",
   "metadata": {},
   "outputs": [],
   "source": [
    "(df[df[\"year\"]!=2019].pivot_table(index=\"company\", columns=\"year\", values=\"profit\", aggfunc=\"sum\")).plot(kind=\"bar\", figsize=(16,8), ylabel=\"Annual Profit\", title='Annual Profit Analysis');"
   ]
  },
  {
   "cell_type": "code",
   "execution_count": null,
   "id": "2e16cf4b-0264-4b56-95b9-7791903e8eeb",
   "metadata": {},
   "outputs": [],
   "source": [
    "df_profit.plot(kind=\"bar\",figsize=(15,8),color=[\"red\",\"green\"]);\n",
    "plt.suptitle(\"Riding more than one Status for Profitable Customer\");"
   ]
  },
  {
   "cell_type": "code",
   "execution_count": null,
   "id": "17f5d3a5-6961-4393-85d6-3b4d896e4d7b",
   "metadata": {},
   "outputs": [],
   "source": [
    "df_unprofit.plot(kind=\"bar\",figsize=(15,8),color=[\"red\",\"green\"])\n",
    "plt.suptitle(\"Riding more than one Status for Unprofitable Customer\");"
   ]
  },
  {
   "cell_type": "markdown",
   "id": "6d4fa235-dc08-4fc1-814a-154d762cb8c2",
   "metadata": {},
   "source": [
    "The discount did not affect users to ride more than once."
   ]
  },
  {
   "cell_type": "markdown",
   "id": "c856859b-c9e9-4c67-a4a5-94a4cff841d0",
   "metadata": {},
   "source": [
    "## <font color =        #03A89E > Part 6: </font> <font color =     #7B68EE > Hypothesis Testing</font>\n"
   ]
  },
  {
   "cell_type": "code",
   "execution_count": null,
   "id": "5996c5d4-c19c-4faa-a92b-9e79293fcb86",
   "metadata": {},
   "outputs": [],
   "source": [
    "sample_size = int((10/100)*359392) # Considering 10% values as sample data\n",
    "\n",
    "def T_Test(a, b):\n",
    "    sample_a = np.random.choice(a, sample_size)\n",
    "    sample_b = np.random.choice(b, sample_size)\n",
    "    ttest, p_value = ttest_ind(sample_a, sample_b, equal_var = False)\n",
    "    print(f'p-value: {p_value}')\n",
    "    if p_value < 0.05:    # alpha value is 0.05 or 5%\n",
    "        print(\"We are rejecting null hypothesis (H0)\")\n",
    "    else:\n",
    "        print(\"We are accepting null hypothesis (H0)\")"
   ]
  },
  {
   "cell_type": "code",
   "execution_count": null,
   "id": "2d073af0-1f82-4088-a8e5-2003204e1253",
   "metadata": {},
   "outputs": [],
   "source": [
    "T_Test(data_1,data_2)"
   ]
  },
  {
   "cell_type": "markdown",
   "id": "57e913f4-a1b0-4fb1-8528-1bd2edc5a45c",
   "metadata": {},
   "source": [
    "### H0 = Profit is not same for Card and cash\n",
    "### H1 = Price Charges is same Card and cash"
   ]
  },
  {
   "cell_type": "code",
   "execution_count": null,
   "id": "44ab83a3-6b80-4ad7-aa9e-0798770237f1",
   "metadata": {},
   "outputs": [],
   "source": [
    "T_Test(df[df[\"payment_mode\"] == \"Cash\"][\"profit\"], df[df[\"payment_mode\"] == \"Card\"][\"profit\"])"
   ]
  },
  {
   "cell_type": "markdown",
   "id": "755288d5-5037-4810-b0c1-526d7fdeb348",
   "metadata": {},
   "source": [
    "### H0 = Price Charges is same for weekdays and weekends\n",
    "### H1 = Price Charges is not same for weekdays and weekends"
   ]
  },
  {
   "cell_type": "code",
   "execution_count": null,
   "id": "712780a1-476e-4b3d-a9aa-cb3beb1e1f64",
   "metadata": {},
   "outputs": [],
   "source": [
    "T_Test(df[df[\"day_status\"] == \"Weekend\"][\"price_charged\"], df[df[\"day_status\"] == \"Weekday\"][\"price_charged\"])"
   ]
  },
  {
   "cell_type": "markdown",
   "id": "110e67dc-398b-41c5-9c8a-d2bba57d6878",
   "metadata": {},
   "source": [
    "### H0 = Profit is same for the company class\n",
    "### H1 = Price Charges is not same for company class"
   ]
  },
  {
   "cell_type": "code",
   "execution_count": null,
   "id": "7cb8c5e4-dafd-4836-a48e-cab8ac2211c9",
   "metadata": {},
   "outputs": [],
   "source": [
    "T_Test(df[df[\"company\"] == \"Pink Cab\"][\"profit\"], df[df[\"company\"] == \"Yellow Cab\"][\"profit\"])"
   ]
  },
  {
   "cell_type": "markdown",
   "id": "03a66cca-6ac4-4af1-9898-7f403f233694",
   "metadata": {},
   "source": [
    "### H0 = There is no difference in income of Male and Female users\n",
    "### H1 = There is difference in income of Male and Female users"
   ]
  },
  {
   "cell_type": "code",
   "execution_count": null,
   "id": "1dd3f95b-46d2-4cf6-b54a-ce7c77e2d55f",
   "metadata": {},
   "outputs": [],
   "source": [
    "T_Test(df[df[\"gender\"] == \"Male\"][\"income_(usd/month)\"], df[df[\"gender\"] == \"Female\"][\"income_(usd/month)\"])"
   ]
  },
  {
   "cell_type": "markdown",
   "id": "17d3b604-e961-478f-8a06-01d9bf0bab3a",
   "metadata": {},
   "source": [
    "## <font color =        #03A89E > Part 7: </font> <font color =     #7B68EE > Conclusion"
   ]
  },
  {
   "cell_type": "markdown",
   "id": "bf53fc0f-0e72-463e-b8ac-80a3fe9dc2cf",
   "metadata": {},
   "source": [
    "People definitely prefer the yellow taxi more.\n",
    "\n",
    "When we sort profits by city, New York is at the top for the two companies.\n",
    "\n",
    "Profit percentages per ride Yellow cab is 54.3 Pink cab is 25.5.\n",
    "\n",
    "Yellow Cab is seen having more profit than the Pink Cab.\n",
    "\n",
    "Yellow taxi should be preferred as the company to be invested."
   ]
  },
  {
   "cell_type": "code",
   "execution_count": null,
   "id": "bbd4e13e-102f-4300-b627-3d72be87f94f",
   "metadata": {},
   "outputs": [],
   "source": []
  },
  {
   "cell_type": "code",
   "execution_count": null,
   "id": "3f681648-28fa-4137-a72e-dedf248bbd4a",
   "metadata": {},
   "outputs": [],
   "source": []
  },
  {
   "cell_type": "code",
   "execution_count": null,
   "id": "1f6786a4-2aab-4270-a997-c1a8c7a05626",
   "metadata": {},
   "outputs": [],
   "source": []
  },
  {
   "cell_type": "code",
   "execution_count": null,
   "id": "7d855011-199f-4a6c-a791-044e4b6eea4f",
   "metadata": {},
   "outputs": [],
   "source": []
  },
  {
   "cell_type": "code",
   "execution_count": null,
   "id": "dc28f451-bb2c-435e-8d33-d0b1fdb38395",
   "metadata": {},
   "outputs": [],
   "source": []
  },
  {
   "cell_type": "code",
   "execution_count": null,
   "id": "d5ddbec3-90c6-45f7-b9c3-d45402459725",
   "metadata": {},
   "outputs": [],
   "source": []
  },
  {
   "cell_type": "code",
   "execution_count": null,
   "id": "109c7502-54bf-4426-8228-c0ded731c3ee",
   "metadata": {},
   "outputs": [],
   "source": []
  },
  {
   "cell_type": "code",
   "execution_count": null,
   "id": "37955138-b7b4-41f8-bbd3-2bc88b61c26a",
   "metadata": {},
   "outputs": [],
   "source": []
  },
  {
   "cell_type": "code",
   "execution_count": null,
   "id": "797d5a7b-2308-408b-baae-219b0aeceedb",
   "metadata": {},
   "outputs": [],
   "source": []
  },
  {
   "cell_type": "code",
   "execution_count": null,
   "id": "5438dbcc-b989-4970-bf5e-b6f89510ac59",
   "metadata": {},
   "outputs": [],
   "source": []
  },
  {
   "cell_type": "code",
   "execution_count": null,
   "id": "cca08061-c1cd-4976-8cd3-43b65985bca6",
   "metadata": {},
   "outputs": [],
   "source": []
  },
  {
   "cell_type": "code",
   "execution_count": null,
   "id": "d2cc3189-0a5b-43d3-a7b9-d979ffc371a9",
   "metadata": {},
   "outputs": [],
   "source": []
  },
  {
   "cell_type": "code",
   "execution_count": null,
   "id": "abeaf85f-0a67-430e-af08-820073c21400",
   "metadata": {},
   "outputs": [],
   "source": []
  },
  {
   "cell_type": "code",
   "execution_count": null,
   "id": "563cc9d3-5859-4951-a891-7d8e840296e4",
   "metadata": {},
   "outputs": [],
   "source": []
  },
  {
   "cell_type": "code",
   "execution_count": null,
   "id": "3a5c8318-dd02-4b69-861c-1eb3fea10ef5",
   "metadata": {},
   "outputs": [],
   "source": []
  },
  {
   "cell_type": "code",
   "execution_count": null,
   "id": "e9f15176-79da-46e0-bdbc-9c0ad9741d85",
   "metadata": {},
   "outputs": [],
   "source": []
  },
  {
   "cell_type": "code",
   "execution_count": null,
   "id": "521e87e3-c87c-4096-ba87-999b6a1b9f69",
   "metadata": {},
   "outputs": [],
   "source": []
  },
  {
   "cell_type": "code",
   "execution_count": null,
   "id": "c9f53e03-3a64-4f51-86c2-36b6312b84f7",
   "metadata": {},
   "outputs": [],
   "source": []
  },
  {
   "cell_type": "code",
   "execution_count": null,
   "id": "149dd8d8-d153-4acd-975a-93fc605ededb",
   "metadata": {},
   "outputs": [],
   "source": []
  },
  {
   "cell_type": "code",
   "execution_count": null,
   "id": "8f308101-99d1-4df4-943f-453c1576ac63",
   "metadata": {},
   "outputs": [],
   "source": []
  },
  {
   "cell_type": "code",
   "execution_count": null,
   "id": "ae7f57bb-1840-472f-b592-5d3f92844eeb",
   "metadata": {},
   "outputs": [],
   "source": []
  },
  {
   "cell_type": "code",
   "execution_count": null,
   "id": "f52b2a4b-5aaf-4e10-9864-eb047a77619c",
   "metadata": {},
   "outputs": [],
   "source": []
  },
  {
   "cell_type": "code",
   "execution_count": null,
   "id": "2a8ff609-6c39-4246-a233-952343413ebf",
   "metadata": {},
   "outputs": [],
   "source": []
  },
  {
   "cell_type": "code",
   "execution_count": null,
   "id": "ce2cd059-fabb-426f-b10a-9d5608ae8140",
   "metadata": {},
   "outputs": [],
   "source": []
  },
  {
   "cell_type": "code",
   "execution_count": null,
   "id": "126225f3-ea2f-488b-a659-545e3acb64a8",
   "metadata": {},
   "outputs": [],
   "source": []
  },
  {
   "cell_type": "code",
   "execution_count": null,
   "id": "2fff088c-d21b-441e-bd4e-061421e137a2",
   "metadata": {},
   "outputs": [],
   "source": []
  },
  {
   "cell_type": "code",
   "execution_count": null,
   "id": "c4cae399-66ab-4c58-81f4-3fc96bb06ae9",
   "metadata": {},
   "outputs": [],
   "source": []
  }
 ],
 "metadata": {
  "kernelspec": {
   "display_name": "Python 3 (ipykernel)",
   "language": "python",
   "name": "python3"
  },
  "language_info": {
   "codemirror_mode": {
    "name": "ipython",
    "version": 3
   },
   "file_extension": ".py",
   "mimetype": "text/x-python",
   "name": "python",
   "nbconvert_exporter": "python",
   "pygments_lexer": "ipython3",
   "version": "3.9.7"
  }
 },
 "nbformat": 4,
 "nbformat_minor": 5
}
