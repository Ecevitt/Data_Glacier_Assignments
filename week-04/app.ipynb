{
 "cells": [
  {
   "cell_type": "code",
   "execution_count": 1,
   "id": "3392cd6f-b8f5-4cb6-8107-9fa3a64f5e04",
   "metadata": {},
   "outputs": [],
   "source": [
    "import pandas as pd\n",
    "from flask import Flask,render_template,request,jsonify\n",
    "import pickle\n",
    "import numpy as np"
   ]
  },
  {
   "cell_type": "code",
   "execution_count": 2,
   "id": "e43ead5e-9ef7-4fc3-aa81-a1a41db49643",
   "metadata": {},
   "outputs": [],
   "source": [
    "app=Flask(__name__)"
   ]
  },
  {
   "cell_type": "code",
   "execution_count": 3,
   "id": "2c9ef04b-e330-4e14-badd-183dfed1196f",
   "metadata": {},
   "outputs": [],
   "source": [
    "model=pickle.load(open(\"model.pkl\",\"rb\"))"
   ]
  },
  {
   "cell_type": "code",
   "execution_count": null,
   "id": "2c3430f8-517f-4962-97c1-d9322e750cf8",
   "metadata": {},
   "outputs": [
    {
     "name": "stdout",
     "output_type": "stream",
     "text": [
      " * Serving Flask app \"__main__\" (lazy loading)\n",
      " * Environment: production\n",
      "\u001b[31m   WARNING: This is a development server. Do not use it in a production deployment.\u001b[0m\n",
      "\u001b[2m   Use a production WSGI server instead.\u001b[0m\n",
      " * Debug mode: on\n"
     ]
    },
    {
     "name": "stderr",
     "output_type": "stream",
     "text": [
      " * Running on http://127.0.0.1:5000/ (Press CTRL+C to quit)\n",
      "127.0.0.1 - - [21/Nov/2022 13:21:53] \"GET / HTTP/1.1\" 200 -\n",
      "127.0.0.1 - - [21/Nov/2022 13:21:53] \"GET /static/kidney_new5.jpg HTTP/1.1\" 304 -\n",
      "127.0.0.1 - - [21/Nov/2022 13:21:53] \"GET /static/kidney_new6.jpg HTTP/1.1\" 304 -\n",
      "127.0.0.1 - - [21/Nov/2022 13:21:53] \"GET /static/kidney_new.jpg HTTP/1.1\" 304 -\n",
      "127.0.0.1 - - [21/Nov/2022 13:21:53] \"GET /favicon.ico HTTP/1.1\" 404 -\n",
      "127.0.0.1 - - [21/Nov/2022 13:23:53] \"POST /predict HTTP/1.1\" 200 -\n"
     ]
    }
   ],
   "source": [
    "@app.route(\"/\")\n",
    "def home():\n",
    "    return render_template(\"home.html\")\n",
    "@app.route(\"/about\")\n",
    "def about():\n",
    "    return render_template(\"aboutdata.html\")\n",
    "\n",
    "@app.route(\"/predict\", methods=[\"POST\"])\n",
    "def predict():\n",
    "    try:\n",
    "        float_features = [float(x) for x in request.form.values()]\n",
    "        features = [np.array(float_features)]\n",
    "        prediction = model.predict(features)\n",
    "        if prediction ==1:\n",
    "                 return render_template(\"stonespos.html\",\n",
    "                                        prediction_text1 = \n",
    "                                        \"Your test results indicate the presence of kidney stones.We recommend that you consult your doctor with your urine test values\") \n",
    "        elif prediction==0:\n",
    "                return render_template(\"stonesneg.html\",prediction_text2 = \"Your test results indicate the absence of kidney stones.We wish you healthy days\" )\n",
    "    except ValueError:\n",
    "        return  render_template(\"stoneswrong.html\",prediction_text3 = \"Please fill the form with numeric values otherwise calculation cannot be done\" )\n",
    "            \n",
    "if __name__ == \"__main__\":\n",
    "    app.run(debug=True,use_reloader=False)"
   ]
  },
  {
   "cell_type": "code",
   "execution_count": null,
   "id": "b2c85551-82de-4d99-aa90-7ee484f520fc",
   "metadata": {},
   "outputs": [],
   "source": []
  },
  {
   "cell_type": "code",
   "execution_count": null,
   "id": "79a4a719-5ddd-40aa-ba34-1b5ef656f74b",
   "metadata": {},
   "outputs": [],
   "source": []
  }
 ],
 "metadata": {
  "kernelspec": {
   "display_name": "Python 3 (ipykernel)",
   "language": "python",
   "name": "python3"
  },
  "language_info": {
   "codemirror_mode": {
    "name": "ipython",
    "version": 3
   },
   "file_extension": ".py",
   "mimetype": "text/x-python",
   "name": "python",
   "nbconvert_exporter": "python",
   "pygments_lexer": "ipython3",
   "version": "3.9.13"
  }
 },
 "nbformat": 4,
 "nbformat_minor": 5
}
